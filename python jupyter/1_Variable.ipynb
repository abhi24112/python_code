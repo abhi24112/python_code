{
 "cells": [
  {
   "cell_type": "markdown",
   "id": "d18b2b19",
   "metadata": {},
   "source": [
    "<h1 style = \"font-size:4rem;color:orange;\" >Python Basic Notes</h1>"
   ]
  },
  {
   "cell_type": "markdown",
   "id": "f9bbcbfb",
   "metadata": {},
   "source": [
    "## what is a Python? "
   ]
  },
  {
   "cell_type": "markdown",
   "id": "37c4fb2c",
   "metadata": {},
   "source": [
    "Python is a popular programming language. It was created by Guido van Rossum, and released in 1991.\n",
    "\n",
    "It is used for:\n",
    "\n",
    "    1.web development (server-side),\n",
    "    2.software development,\n",
    "    3.mathematics,\n",
    "    3.system scripting.\n"
   ]
  },
  {
   "cell_type": "code",
   "execution_count": 1,
   "id": "8dbd6735",
   "metadata": {},
   "outputs": [
    {
     "name": "stdout",
     "output_type": "stream",
     "text": [
      "Hello, World!\n"
     ]
    }
   ],
   "source": [
    "#Example\n",
    "print(\"Hello, World!\")"
   ]
  },
  {
   "cell_type": "markdown",
   "id": "0917ca3c",
   "metadata": {},
   "source": [
    "## Comments  "
   ]
  },
  {
   "cell_type": "markdown",
   "id": "33806b9a",
   "metadata": {},
   "source": [
    "Python has commenting capability for the purpose of in-code documentation.\n",
    "\n",
    "Comments start with a #, and Python will render the rest of the line as a comment: "
   ]
  },
  {
   "cell_type": "code",
   "execution_count": 1,
   "id": "8ceffc16",
   "metadata": {},
   "outputs": [
    {
     "name": "stdout",
     "output_type": "stream",
     "text": [
      "Hello, World!\n"
     ]
    }
   ],
   "source": [
    "#Example\n",
    "#This is a comment.\n",
    "print(\"Hello, World!\")"
   ]
  },
  {
   "cell_type": "markdown",
   "id": "a6791495",
   "metadata": {},
   "source": [
    "<h1 style = \"font-size:3rem;color:red;\" >Variables</h1>"
   ]
  },
  {
   "cell_type": "markdown",
   "id": "1ca528cb",
   "metadata": {},
   "source": [
    "Variables are containers for storing data values."
   ]
  },
  {
   "cell_type": "markdown",
   "id": "6cf0e82c",
   "metadata": {},
   "source": [
    "## 1.Creating Variables"
   ]
  },
  {
   "cell_type": "markdown",
   "id": "b1e28aaa",
   "metadata": {},
   "source": [
    "Python has no command for declaring a variable.\n",
    "\n",
    "A variable is created the moment you first assign a value to it."
   ]
  },
  {
   "cell_type": "code",
   "execution_count": 2,
   "id": "29d4d4fe",
   "metadata": {},
   "outputs": [
    {
     "name": "stdout",
     "output_type": "stream",
     "text": [
      "5\n",
      "John\n"
     ]
    }
   ],
   "source": [
    "x = 5\n",
    "y = \"John\"\n",
    "print(x)\n",
    "print(y)"
   ]
  },
  {
   "cell_type": "markdown",
   "id": "2fd9ac51",
   "metadata": {},
   "source": [
    "## 2.Type of the Varible"
   ]
  },
  {
   "cell_type": "code",
   "execution_count": 4,
   "id": "460f656f",
   "metadata": {},
   "outputs": [
    {
     "name": "stdout",
     "output_type": "stream",
     "text": [
      "<class 'int'> <class 'float'> <class 'str'> <class 'bool'>\n"
     ]
    }
   ],
   "source": [
    "a=1\n",
    "b=2.6\n",
    "c='Abhishek' # string can be declare in single and double quotes\n",
    "d=True\n",
    "print(type(a),type(b),type(c),type(d))"
   ]
  },
  {
   "cell_type": "markdown",
   "id": "3786eac1",
   "metadata": {},
   "source": [
    "##  3.Rules for Python variables"
   ]
  },
  {
   "cell_type": "markdown",
   "id": "89b9728d",
   "metadata": {},
   "source": [
    "\n",
    "    1.A variable name must start with a letter or the underscore character\n",
    "    2.A variable name cannot start with a number\n",
    "    3.A variable name can only contain alpha-numeric characters and underscores (A-z, 0-9, and _ )\n",
    "    4.Variable names are case-sensitive (age, Age and AGE are three different variables)\n"
   ]
  },
  {
   "cell_type": "code",
   "execution_count": null,
   "id": "ea58276e",
   "metadata": {},
   "outputs": [],
   "source": [
    "myvar = \"Abhishek\"\n",
    "my_var = \"Abhishek\"\n",
    "_my_var = \"Abhishek\"\n",
    "myVar = \"Abhishek\"\n",
    "MYVAR = \"Abhishek\"\n",
    "myvar2 = \"Abhishek\""
   ]
  },
  {
   "cell_type": "markdown",
   "id": "d2762756",
   "metadata": {},
   "source": [
    "## 4.Assign Multiple Values"
   ]
  },
  {
   "cell_type": "markdown",
   "id": "9012a321",
   "metadata": {},
   "source": [
    "Python allows you to assign values to multiple variables in one line:"
   ]
  },
  {
   "cell_type": "code",
   "execution_count": 13,
   "id": "ace9ed02",
   "metadata": {
    "scrolled": true
   },
   "outputs": [
    {
     "name": "stdout",
     "output_type": "stream",
     "text": [
      "Ram\n",
      "Shaam\n",
      "Abhi\n"
     ]
    }
   ],
   "source": [
    "x, y, z = \"Ram\", \"Shaam\", \"Abhi\"\n",
    "print(x)\n",
    "print(y)\n",
    "print(z)"
   ]
  },
  {
   "cell_type": "markdown",
   "id": "5c18a6bf",
   "metadata": {},
   "source": [
    "## 5.One Value to Multiple Variables"
   ]
  },
  {
   "cell_type": "code",
   "execution_count": 3,
   "id": "04b08069",
   "metadata": {},
   "outputs": [
    {
     "name": "stdout",
     "output_type": "stream",
     "text": [
      "Orange\n",
      "Orange\n",
      "Orange\n"
     ]
    }
   ],
   "source": [
    "x = y = z = \"Orange\"\n",
    "print(x)\n",
    "print(y)\n",
    "print(z)"
   ]
  },
  {
   "cell_type": "markdown",
   "id": "7d920c19",
   "metadata": {},
   "source": [
    "<h1 style = \"font-size:3rem;color:red;\" >TYPES OF PRINT STATEMENTS</h1>"
   ]
  },
  {
   "cell_type": "markdown",
   "id": "fdd8198a",
   "metadata": {},
   "source": [
    "The Python print() function is often used to print the result to the shell."
   ]
  },
  {
   "cell_type": "code",
   "execution_count": null,
   "id": "582e9d79",
   "metadata": {},
   "outputs": [],
   "source": [
    "x = \"Python is awesome\"\n",
    "print(x)"
   ]
  },
  {
   "cell_type": "code",
   "execution_count": 11,
   "id": "cc98581d",
   "metadata": {},
   "outputs": [
    {
     "name": "stdout",
     "output_type": "stream",
     "text": [
      "hello world\n"
     ]
    }
   ],
   "source": [
    "print(\"hello\",end=\" \") #end is a keyword argument\n",
    "print(\"world\")"
   ]
  },
  {
   "cell_type": "code",
   "execution_count": 13,
   "id": "0605c885",
   "metadata": {},
   "outputs": [
    {
     "name": "stdout",
     "output_type": "stream",
     "text": [
      "hello my=world\n"
     ]
    }
   ],
   "source": [
    "print(\"hello\",\"my\",end=\"=\")\n",
    "print(\"world\")"
   ]
  },
  {
   "cell_type": "code",
   "execution_count": 7,
   "id": "4c656f72",
   "metadata": {},
   "outputs": [
    {
     "name": "stdout",
     "output_type": "stream",
     "text": [
      "hello-world-babe\n"
     ]
    }
   ],
   "source": [
    "print(\"hello\",\"world\",\"babe\",sep=\"-\") #end is a keyword argument"
   ]
  },
  {
   "cell_type": "code",
   "execution_count": 8,
   "id": "5665a043",
   "metadata": {},
   "outputs": [
    {
     "name": "stdout",
     "output_type": "stream",
     "text": [
      "My_name_is*Monty*Python.*\n"
     ]
    }
   ],
   "source": [
    "print(\"My\", \"name\", \"is\", sep=\"_\", end=\"*\")\n",
    "print(\"Monty\", \"Python.\", sep=\"*\", end=\"*\\n\")\n"
   ]
  },
  {
   "cell_type": "code",
   "execution_count": 5,
   "id": "18a565ef",
   "metadata": {},
   "outputs": [
    {
     "name": "stdout",
     "output_type": "stream",
     "text": [
      "Python is awesome\n"
     ]
    }
   ],
   "source": [
    "# we can print multiple varible at a same time\n",
    "x = \"Python\"\n",
    "y = \"is\"\n",
    "z = \"awesome\"\n",
    "print(x, y, z)"
   ]
  },
  {
   "cell_type": "code",
   "execution_count": 6,
   "id": "fad41ff8",
   "metadata": {},
   "outputs": [
    {
     "name": "stdout",
     "output_type": "stream",
     "text": [
      "Python is awesome\n"
     ]
    }
   ],
   "source": [
    "#We can concatinate the string by using + sign into the print statement\n",
    "x = \"Python \"\n",
    "y = \"is \"\n",
    "z = \"awesome\"\n",
    "print(x + y + z)"
   ]
  },
  {
   "cell_type": "code",
   "execution_count": 7,
   "id": "1c5d448f",
   "metadata": {},
   "outputs": [
    {
     "name": "stdout",
     "output_type": "stream",
     "text": [
      "15\n"
     ]
    }
   ],
   "source": [
    "# We can do arithmatical opertion in the print statement\n",
    "x = 5\n",
    "y = 10\n",
    "print(x + y)"
   ]
  },
  {
   "cell_type": "code",
   "execution_count": 1,
   "id": "25db5bc7",
   "metadata": {},
   "outputs": [
    {
     "name": "stdout",
     "output_type": "stream",
     "text": [
      "5 John\n"
     ]
    }
   ],
   "source": [
    "# We can not concatinate the integer or a string\n",
    "#but we can print them together\n",
    "x = 5\n",
    "y = \"John\"\n",
    "print(x, y)"
   ]
  },
  {
   "cell_type": "markdown",
   "id": "fa75fc08",
   "metadata": {},
   "source": [
    "## 6.Global Variables"
   ]
  },
  {
   "cell_type": "markdown",
   "id": "9043312a",
   "metadata": {},
   "source": [
    "Variables that are created outside of a function (as in all of the examples above) are known \n",
    "as global variables.\n",
    "Global variables can be used by everyone, both inside of functions and outside."
   ]
  },
  {
   "cell_type": "code",
   "execution_count": 5,
   "id": "f66ea4d5",
   "metadata": {},
   "outputs": [
    {
     "name": "stdout",
     "output_type": "stream",
     "text": [
      "My name is Abhishek\n",
      "The boss is Abhishek\n"
     ]
    }
   ],
   "source": [
    "x = \"Abhishek\" # here the x is a global variable\n",
    "def myfunc():\n",
    "  print(\"My name is \" + x) # the variable is used inside a function\n",
    "myfunc()\n",
    "print(\"The boss is \" + x)# the variable is used outside a function"
   ]
  },
  {
   "cell_type": "markdown",
   "id": "e567a431",
   "metadata": {},
   "source": [
    "##  7.The global Keyword"
   ]
  },
  {
   "cell_type": "markdown",
   "id": "c8c19e8b",
   "metadata": {},
   "source": [
    "Normally, when you create a variable inside a function, that variable is local,\n",
    "and can only be used inside that function.\n",
    "\n",
    "To create a global variable inside a function, you can use the global keyword."
   ]
  },
  {
   "cell_type": "code",
   "execution_count": 6,
   "id": "3e7aa953",
   "metadata": {},
   "outputs": [
    {
     "name": "stdout",
     "output_type": "stream",
     "text": [
      "Python is fantastic\n",
      "Python is fantastic\n"
     ]
    }
   ],
   "source": [
    "def myfunc():\n",
    "  global x  # the x variable is global variable\n",
    "  x = \"fantastic\"\n",
    "  print(\"Python is \" + x) # the variable is used inside a function\n",
    "myfunc()\n",
    "print(\"Python is \" + x) # the variable is used outside a function"
   ]
  }
 ],
 "metadata": {
  "kernelspec": {
   "display_name": "Python 3 (ipykernel)",
   "language": "python",
   "name": "python3"
  },
  "language_info": {
   "codemirror_mode": {
    "name": "ipython",
    "version": 3
   },
   "file_extension": ".py",
   "mimetype": "text/x-python",
   "name": "python",
   "nbconvert_exporter": "python",
   "pygments_lexer": "ipython3",
   "version": "3.10.8"
  }
 },
 "nbformat": 4,
 "nbformat_minor": 5
}
