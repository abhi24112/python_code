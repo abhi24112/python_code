{
 "cells": [
  {
   "cell_type": "markdown",
   "id": "af3f6936",
   "metadata": {},
   "source": [
    "<h1 style = \"font-size:4rem;color:red;\">Modify Strings</h1>"
   ]
  },
  {
   "cell_type": "markdown",
   "id": "e7cbda04",
   "metadata": {},
   "source": [
    "Python has a set of built-in methods that you can use on strings. \n",
    "like strip(),upper(),lower(),remove(),replace(),reverse()"
   ]
  },
  {
   "cell_type": "markdown",
   "id": "aadbc98b",
   "metadata": {},
   "source": [
    "##  1.Upper()"
   ]
  },
  {
   "cell_type": "markdown",
   "id": "8ae08fd2",
   "metadata": {},
   "source": [
    "upper() is used to capitalize whole string or convert the lowercase string into uppercase."
   ]
  },
  {
   "cell_type": "code",
   "execution_count": 4,
   "id": "f66d02ed",
   "metadata": {},
   "outputs": [
    {
     "name": "stdout",
     "output_type": "stream",
     "text": [
      "HELLO BUDDY\n",
      "HELLO LADIES\n"
     ]
    }
   ],
   "source": [
    "a=\"hello buddy\"\n",
    "c=\"hello ladies\"\n",
    "b=a.upper()\n",
    "print(b)\n",
    "print(c.upper())"
   ]
  },
  {
   "cell_type": "markdown",
   "id": "77a47dd1",
   "metadata": {},
   "source": [
    "## 2.Lower() "
   ]
  },
  {
   "cell_type": "markdown",
   "id": "bb66a24b",
   "metadata": {},
   "source": [
    "lower() is use to convert the capitalize string into lowercase string."
   ]
  },
  {
   "cell_type": "code",
   "execution_count": 6,
   "id": "dba4b825",
   "metadata": {},
   "outputs": [
    {
     "name": "stdout",
     "output_type": "stream",
     "text": [
      "hello buddy\n",
      "hello ladies\n"
     ]
    }
   ],
   "source": [
    "a=\"HELLO BUDDY\"\n",
    "c=\"HELLO LADIES\"\n",
    "b=a.lower()\n",
    "print(b)\n",
    "print(c.lower())"
   ]
  },
  {
   "cell_type": "markdown",
   "id": "12cb3b1e",
   "metadata": {},
   "source": [
    "## 3.Remove Whitespace"
   ]
  },
  {
   "cell_type": "markdown",
   "id": "1c80f27d",
   "metadata": {},
   "source": [
    "The strip() method removes any whitespace from the beginning or the end:"
   ]
  },
  {
   "cell_type": "code",
   "execution_count": 5,
   "id": "de3a4cba",
   "metadata": {},
   "outputs": [
    {
     "name": "stdout",
     "output_type": "stream",
     "text": [
      "hello world!\n"
     ]
    }
   ],
   "source": [
    "a=\"   hello world!  \"\n",
    "print(a.strip())"
   ]
  },
  {
   "cell_type": "markdown",
   "id": "f7e61477",
   "metadata": {},
   "source": [
    "## 4.Replace String"
   ]
  },
  {
   "cell_type": "markdown",
   "id": "0ee257a5",
   "metadata": {},
   "source": [
    "replace() function is used to replace a string with another string."
   ]
  },
  {
   "cell_type": "code",
   "execution_count": 8,
   "id": "11a53239",
   "metadata": {},
   "outputs": [
    {
     "name": "stdout",
     "output_type": "stream",
     "text": [
      "Abhishek is a good boy\n"
     ]
    }
   ],
   "source": [
    "a=\"Abhishek is a bad boy\"\n",
    "print(a.replace(\"bad\",\"good\"))"
   ]
  },
  {
   "cell_type": "markdown",
   "id": "f5ae8939",
   "metadata": {},
   "source": [
    "## 5.Split string"
   ]
  },
  {
   "cell_type": "markdown",
   "id": "826a91e2",
   "metadata": {},
   "source": [
    "split() function is used to convert the string into the list by using the specified spliter(any string and special symbol)."
   ]
  },
  {
   "cell_type": "code",
   "execution_count": 5,
   "id": "b39b3c78",
   "metadata": {},
   "outputs": [
    {
     "name": "stdout",
     "output_type": "stream",
     "text": [
      "['hello', 'my', 'fallow', 'friend', 'I', 'want', 'to', 'be', 'your', 'buddy']\n"
     ]
    }
   ],
   "source": [
    "a=\"hello my fallow friend I want to be your buddy\"\n",
    "b=a.split(\" \") # in the split function we give the space as the spliter.\n",
    "print(b)"
   ]
  },
  {
   "cell_type": "markdown",
   "id": "45ea4daa",
   "metadata": {},
   "source": [
    "## 6.capitalize string"
   ]
  },
  {
   "cell_type": "markdown",
   "id": "6d1e112e",
   "metadata": {},
   "source": [
    "capitalize() is used to convert the first letter of the string into uppercase."
   ]
  },
  {
   "cell_type": "code",
   "execution_count": 15,
   "id": "f1febb6f",
   "metadata": {},
   "outputs": [
    {
     "name": "stdout",
     "output_type": "stream",
     "text": [
      "Don't take admission into the dtea school\n"
     ]
    }
   ],
   "source": [
    "a=\"don't take admission into the DTEA school\"\n",
    "print(a.capitalize())"
   ]
  },
  {
   "cell_type": "markdown",
   "id": "4b52c002",
   "metadata": {},
   "source": [
    "## 7.Count function"
   ]
  },
  {
   "cell_type": "markdown",
   "id": "3d210ab2",
   "metadata": {},
   "source": [
    "The count() method returns the number of times a specified value appears in the string.\n",
    "syntax: string.count(value, start, end)."
   ]
  },
  {
   "cell_type": "code",
   "execution_count": 19,
   "id": "e0286554",
   "metadata": {},
   "outputs": [
    {
     "name": "stdout",
     "output_type": "stream",
     "text": [
      "3\n"
     ]
    }
   ],
   "source": [
    "a=\"Be happy in life and Be strong and Be healthy also\"\n",
    "print(a.count(\"Be\"))"
   ]
  },
  {
   "cell_type": "markdown",
   "id": "8d055c50",
   "metadata": {},
   "source": [
    "## 8.Find function "
   ]
  },
  {
   "cell_type": "markdown",
   "id": "00a894c1",
   "metadata": {},
   "source": [
    "Find() function is used  Searches the string for a specified value and returns the position of where it was found"
   ]
  },
  {
   "cell_type": "code",
   "execution_count": 6,
   "id": "0f61d38a",
   "metadata": {
    "scrolled": true
   },
   "outputs": [
    {
     "name": "stdout",
     "output_type": "stream",
     "text": [
      "9\n"
     ]
    }
   ],
   "source": [
    "a=\"Isn't it lovely, all alone! heart make of glass my mind of stone\"\n",
    "b=a.find(\"lovely\")\n",
    "print(b) # it going to return the index value"
   ]
  },
  {
   "cell_type": "markdown",
   "id": "973da353",
   "metadata": {},
   "source": [
    "## 9.Index function"
   ]
  },
  {
   "cell_type": "markdown",
   "id": "e8d015bf",
   "metadata": {},
   "source": [
    "index() function is used Searches the string for a specified value and returns the position of where it was found\n"
   ]
  },
  {
   "cell_type": "markdown",
   "id": "5be7e2e2",
   "metadata": {},
   "source": [
    "##### The index() method is almost the same as the find() function, the only difference is that the find() method returns -1 if the value is not found and index() returns the valueerror."
   ]
  },
  {
   "cell_type": "code",
   "execution_count": 27,
   "id": "6269ad3a",
   "metadata": {},
   "outputs": [
    {
     "name": "stdout",
     "output_type": "stream",
     "text": [
      "-1\n"
     ]
    },
    {
     "ename": "ValueError",
     "evalue": "substring not found",
     "output_type": "error",
     "traceback": [
      "\u001b[1;31m---------------------------------------------------------------------------\u001b[0m",
      "\u001b[1;31mValueError\u001b[0m                                Traceback (most recent call last)",
      "Input \u001b[1;32mIn [27]\u001b[0m, in \u001b[0;36m<cell line: 3>\u001b[1;34m()\u001b[0m\n\u001b[0;32m      1\u001b[0m a\u001b[38;5;241m=\u001b[39m\u001b[38;5;124m\"\u001b[39m\u001b[38;5;124mkeep your distance with the stupid girls\u001b[39m\u001b[38;5;124m\"\u001b[39m\n\u001b[0;32m      2\u001b[0m \u001b[38;5;28mprint\u001b[39m(a\u001b[38;5;241m.\u001b[39mfind(\u001b[38;5;124m\"\u001b[39m\u001b[38;5;124mboys\u001b[39m\u001b[38;5;124m\"\u001b[39m))\n\u001b[1;32m----> 3\u001b[0m \u001b[38;5;28mprint\u001b[39m(\u001b[43ma\u001b[49m\u001b[38;5;241;43m.\u001b[39;49m\u001b[43mindex\u001b[49m\u001b[43m(\u001b[49m\u001b[38;5;124;43m\"\u001b[39;49m\u001b[38;5;124;43mboys\u001b[39;49m\u001b[38;5;124;43m\"\u001b[39;49m\u001b[43m)\u001b[49m)\n",
      "\u001b[1;31mValueError\u001b[0m: substring not found"
     ]
    }
   ],
   "source": [
    "a=\"keep your distance with the stupid girls\"\n",
    "print(a.find(\"boys\"))\n",
    "print(a.index(\"boys\")) # it going to show a value error so don't confuse."
   ]
  },
  {
   "cell_type": "markdown",
   "id": "6e0b3221",
   "metadata": {},
   "source": [
    "## 10. replace() function"
   ]
  },
  {
   "cell_type": "markdown",
   "id": "fd56a221",
   "metadata": {},
   "source": [
    "replace() is used to replace to a specified word or phase by other specified word or phase. "
   ]
  },
  {
   "cell_type": "code",
   "execution_count": 30,
   "id": "c0be6e28",
   "metadata": {
    "scrolled": true
   },
   "outputs": [
    {
     "name": "stdout",
     "output_type": "stream",
     "text": [
      "Wake up to reality! nothing ever go as planned in this world\n"
     ]
    }
   ],
   "source": [
    "a=\"Wake up to reality! nothing ever go as planned in this cursed planet\"\n",
    "print(a.replace(\"planet\",\"world\"))"
   ]
  },
  {
   "cell_type": "markdown",
   "id": "6cfe5999",
   "metadata": {},
   "source": [
    "## 11.formate function"
   ]
  },
  {
   "cell_type": "markdown",
   "id": "eb998fde",
   "metadata": {},
   "source": [
    "The format() method takes the passed arguments, formats them, and places them in the string where the placeholders {} are: there are many other sub topic in the formate() but we only learn basic if you want to learn consider below link"
   ]
  },
  {
   "cell_type": "code",
   "execution_count": 6,
   "id": "28961277",
   "metadata": {
    "scrolled": true
   },
   "outputs": [
    {
     "name": "stdout",
     "output_type": "stream",
     "text": [
      "Please enter the (pain) it's complete the sentense:pain\n",
      "The longer you live, the more you realize that reality is just made of pain\n"
     ]
    }
   ],
   "source": [
    "a=\"The longer you live, the more you realize that reality is just made of {}\"\n",
    "b=input(\"Please enter only (pain) it's complete the sentense:\")\n",
    "print(a.format(b))"
   ]
  },
  {
   "cell_type": "markdown",
   "id": "412e4647",
   "metadata": {},
   "source": [
    "#### if you want to learn more string function consider this link:"
   ]
  },
  {
   "cell_type": "markdown",
   "id": "007c0215",
   "metadata": {},
   "source": [
    "https://www.w3schools.com/python/python_ref_string.asp"
   ]
  }
 ],
 "metadata": {
  "kernelspec": {
   "display_name": "Python 3 (ipykernel)",
   "language": "python",
   "name": "python3"
  },
  "language_info": {
   "codemirror_mode": {
    "name": "ipython",
    "version": 3
   },
   "file_extension": ".py",
   "mimetype": "text/x-python",
   "name": "python",
   "nbconvert_exporter": "python",
   "pygments_lexer": "ipython3",
   "version": "3.10.8"
  }
 },
 "nbformat": 4,
 "nbformat_minor": 5
}
