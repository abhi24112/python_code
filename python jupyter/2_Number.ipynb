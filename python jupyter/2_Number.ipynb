{
 "cells": [
  {
   "cell_type": "markdown",
   "id": "77f8ad0e",
   "metadata": {},
   "source": [
    "<h1 style = \"font-size:3rem;color:red;\" >1.NUMBERS</h1>"
   ]
  },
  {
   "cell_type": "markdown",
   "id": "454d1983",
   "metadata": {},
   "source": [
    "## 1.Python Numbers"
   ]
  },
  {
   "cell_type": "markdown",
   "id": "6767e8a6",
   "metadata": {},
   "source": [
    "There are three numeric types in Python:\n",
    "1.int\n",
    "2.float\n",
    "3.complex"
   ]
  },
  {
   "cell_type": "code",
   "execution_count": null,
   "id": "58468558",
   "metadata": {},
   "outputs": [],
   "source": [
    "x = 1    # int\n",
    "y = 2.8  # float\n",
    "z = 3+5j   # complex"
   ]
  },
  {
   "cell_type": "markdown",
   "id": "49a80e9c",
   "metadata": {},
   "source": [
    "## 2.Print the Data Type"
   ]
  },
  {
   "cell_type": "markdown",
   "id": "accd21c5",
   "metadata": {},
   "source": [
    "To print the number data type, use the built-in function type(number)"
   ]
  },
  {
   "cell_type": "code",
   "execution_count": 1,
   "id": "f8be018f",
   "metadata": {},
   "outputs": [
    {
     "name": "stdout",
     "output_type": "stream",
     "text": [
      "<class 'int'>\n"
     ]
    }
   ],
   "source": [
    "a=45\n",
    "print(type(a))"
   ]
  },
  {
   "cell_type": "code",
   "execution_count": 2,
   "id": "91533274",
   "metadata": {},
   "outputs": [
    {
     "name": "stdout",
     "output_type": "stream",
     "text": [
      "<class 'str'>\n"
     ]
    }
   ],
   "source": [
    "a='Abhishek'\n",
    "print(type(a))"
   ]
  },
  {
   "cell_type": "markdown",
   "id": "73030d35",
   "metadata": {},
   "source": [
    "## 3.Type of conversions"
   ]
  },
  {
   "cell_type": "markdown",
   "id": "d6b36a47",
   "metadata": {},
   "source": [
    "You can convert from one type to another with the int(), float(), and complex() methods:"
   ]
  },
  {
   "cell_type": "code",
   "execution_count": 4,
   "id": "8cd344c1",
   "metadata": {},
   "outputs": [
    {
     "name": "stdout",
     "output_type": "stream",
     "text": [
      "1.0\n",
      "2\n",
      "(1+0j)\n",
      "<class 'float'>\n",
      "<class 'int'>\n",
      "<class 'complex'>\n"
     ]
    }
   ],
   "source": [
    "x = 1   \n",
    "y = 2.8 \n",
    "z = 3+1j  \n",
    "\n",
    "#convert from int to float:\n",
    "a = float(x)\n",
    "\n",
    "#convert from float to int:\n",
    "b = int(y)\n",
    "\n",
    "#convert from int to complex:\n",
    "c = complex(x)\n",
    "\n",
    "print(a)     #you can not covert the complex number into the integer or float\n",
    "print(b)\n",
    "print(c)\n",
    "\n",
    "print(type(a))\n",
    "print(type(b))\n",
    "print(type(c)) "
   ]
  },
  {
   "cell_type": "markdown",
   "id": "4c23c917",
   "metadata": {},
   "source": [
    "## 4.Random Number"
   ]
  },
  {
   "cell_type": "markdown",
   "id": "0dfbac95",
   "metadata": {},
   "source": [
    "Python does not have a random() function to make a random number, \n",
    "but Python has a built-in module called random that can be used to make random numbers:"
   ]
  },
  {
   "cell_type": "code",
   "execution_count": 25,
   "id": "db815141",
   "metadata": {},
   "outputs": [
    {
     "name": "stdout",
     "output_type": "stream",
     "text": [
      "7\n"
     ]
    }
   ],
   "source": [
    "import random\n",
    "print(random.randrange(1, 10)) # randrange is use to print any random number from the range of 1 to 10"
   ]
  },
  {
   "cell_type": "markdown",
   "id": "a89b282e",
   "metadata": {},
   "source": [
    "## 5.Basic Operations on Number"
   ]
  },
  {
   "cell_type": "markdown",
   "id": "c012d3a8",
   "metadata": {},
   "source": [
    "We can now use our variables or any other numbers to do some calculations:"
   ]
  },
  {
   "cell_type": "code",
   "execution_count": null,
   "id": "8e73ca17",
   "metadata": {},
   "outputs": [],
   "source": [
    "a=int(input(\"Enter the first number:\")) # this statement is use to take input from the user\n",
    "b=int(input(\"Enter the second number:\")) # this statement is use to take input from the user\n",
    "g=a+b\n",
    "h=a-b\n",
    "c=a/b\n",
    "d=a//b\n",
    "e=a%b\n",
    "f=a**b\n",
    "print(\"The sum is\",g)\n",
    "print(\"The substraction is:\",h)\n",
    "print(\"The division is:\",c)\n",
    "print(\"The Floor division is:\",d)\n",
    "print(\"The module is:\",e)\n",
    "print(\"The power is :\",f)"
   ]
  },
  {
   "cell_type": "markdown",
   "id": "417fcffc",
   "metadata": {},
   "source": [
    "####  Do the same question with using Function?"
   ]
  },
  {
   "cell_type": "code",
   "execution_count": null,
   "id": "298c824d",
   "metadata": {},
   "outputs": [],
   "source": [
    "def calculator(a,b):\n",
    "    addition=a+b\n",
    "    subtraction=a-b\n",
    "    classic_division = a/b\n",
    "    floor_division = a//b \n",
    "    modulus = a%b  \n",
    "    power = a**b \n",
    "    return [addition,subtraction,classic_division,floor_division,modulus,power]\n",
    "\n",
    "a=int(input(\"Enter the first number:\"))\n",
    "b=int(input(\"Enter the second number:\"))\n",
    "[addition,subtraction,classic_division, floor_division, modulus, power]=calculator(a,b)\n",
    "print(addition)\n",
    "print(subtraction)\n",
    "print(classic_division)\n",
    "print(floor_division)\n",
    "print(modulus)\n",
    "print(power)"
   ]
  }
 ],
 "metadata": {
  "kernelspec": {
   "display_name": "Python 3 (ipykernel)",
   "language": "python",
   "name": "python3"
  },
  "language_info": {
   "codemirror_mode": {
    "name": "ipython",
    "version": 3
   },
   "file_extension": ".py",
   "mimetype": "text/x-python",
   "name": "python",
   "nbconvert_exporter": "python",
   "pygments_lexer": "ipython3",
   "version": "3.10.8"
  }
 },
 "nbformat": 4,
 "nbformat_minor": 5
}
