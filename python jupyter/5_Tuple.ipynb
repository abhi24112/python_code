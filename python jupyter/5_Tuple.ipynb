{
 "cells": [
  {
   "cell_type": "markdown",
   "id": "2cdc652a",
   "metadata": {},
   "source": [
    "<h1 style = \"font-size:4rem;color:orange;\" >Python Tuple</h1>"
   ]
  },
  {
   "cell_type": "markdown",
   "id": "c047d5d5",
   "metadata": {},
   "source": [
    "Tuples are used to store multiple items in a single variable.\n",
    "\n",
    "Tuple is one of 4 built-in data types in Python used to store collections of data, the other 3 are List, Set, and Dictionary, all with different qualities and usage.\n",
    "\n",
    "__A tuple is a collection which is ordered and unchangeable (immutable)__.\n",
    "\n",
    "Tuples are written with round brackets."
   ]
  },
  {
   "cell_type": "code",
   "execution_count": 2,
   "id": "bc25e67a",
   "metadata": {},
   "outputs": [
    {
     "name": "stdout",
     "output_type": "stream",
     "text": [
      "('hello', 'lufy', 'Ace', 'White beard')\n",
      "<class 'tuple'>\n"
     ]
    }
   ],
   "source": [
    "t=(\"hello\",\"lufy\",\"Ace\",\"White beard\")\n",
    "print(t)\n",
    "print(type(t))"
   ]
  },
  {
   "cell_type": "markdown",
   "id": "0b01bab9",
   "metadata": {},
   "source": [
    "<h1 style = \"font-size:3rem;color:red;\" >Create Tuple With One Item</h1>"
   ]
  },
  {
   "cell_type": "markdown",
   "id": "368facae",
   "metadata": {},
   "source": [
    "To create a tuple with only one item, you have to add a comma after the item, otherwise Python will not recognize it as a tuple."
   ]
  },
  {
   "cell_type": "code",
   "execution_count": 3,
   "id": "ff430824",
   "metadata": {
    "scrolled": true
   },
   "outputs": [
    {
     "name": "stdout",
     "output_type": "stream",
     "text": [
      "<class 'tuple'>\n",
      "<class 'str'>\n"
     ]
    }
   ],
   "source": [
    "t=(\"hello\",) # Here this is the Tuple \n",
    "t1=(\"hello\") # This is not a Tuple it is a string\n",
    "print(type(t))\n",
    "print(type(t1))"
   ]
  },
  {
   "cell_type": "markdown",
   "id": "5c7f9036",
   "metadata": {},
   "source": [
    "## tuple() method"
   ]
  },
  {
   "cell_type": "markdown",
   "id": "dd34e4d8",
   "metadata": {},
   "source": [
    "This method is used to convert the list into tuple."
   ]
  },
  {
   "cell_type": "code",
   "execution_count": 5,
   "id": "64d34a65",
   "metadata": {},
   "outputs": [
    {
     "name": "stdout",
     "output_type": "stream",
     "text": [
      "(1, 2, 3, 4, 5, 'Abhi')\n"
     ]
    }
   ],
   "source": [
    "l=[1,2,3,4,5,\"Abhi\"]\n",
    "print(tuple(l))"
   ]
  },
  {
   "cell_type": "markdown",
   "id": "ff2affdc",
   "metadata": {},
   "source": [
    "<h1 style = \"font-size:3rem;color:red;\" >Access Tuple Items</h1>"
   ]
  },
  {
   "cell_type": "markdown",
   "id": "03b8f5c2",
   "metadata": {},
   "source": [
    "You can access tuple items by referring to the index number, inside square brackets:"
   ]
  },
  {
   "cell_type": "code",
   "execution_count": 6,
   "id": "30669d6b",
   "metadata": {},
   "outputs": [
    {
     "name": "stdout",
     "output_type": "stream",
     "text": [
      "lufy\n",
      "Ace\n",
      "('Ace', 'White beard')\n"
     ]
    }
   ],
   "source": [
    "t=(\"hello\",\"lufy\",\"Ace\",\"White beard\")\n",
    "print(t[1])\n",
    "print(t[-2])\n",
    "print(t[2:4])"
   ]
  },
  {
   "cell_type": "markdown",
   "id": "76b207f1",
   "metadata": {},
   "source": [
    "<h1 style = \"font-size:3rem;color:red;\" >Update Tuples</h1>"
   ]
  },
  {
   "cell_type": "markdown",
   "id": "3bf4f59e",
   "metadata": {},
   "source": [
    "Tuples are unchangeable, meaning that you cannot change, add, or remove items once the tuple is created.\n",
    "\n",
    "__But there are some workarounds.__"
   ]
  },
  {
   "cell_type": "markdown",
   "id": "6e893414",
   "metadata": {},
   "source": [
    "__You can convert the tuple into the list and then do all the stuff you want and then convert it back into the tuple using tuple() method__"
   ]
  },
  {
   "cell_type": "markdown",
   "id": "e871574a",
   "metadata": {},
   "source": [
    "## 1. Change Tuple Values"
   ]
  },
  {
   "cell_type": "code",
   "execution_count": 7,
   "id": "5c8eb10a",
   "metadata": {},
   "outputs": [
    {
     "name": "stdout",
     "output_type": "stream",
     "text": [
      "('apple', 'orange', 'cherry')\n"
     ]
    }
   ],
   "source": [
    "t=(\"apple\", \"banana\", \"cherry\")\n",
    "l=list(t)\n",
    "l[1]=\"orange\"\n",
    "t=tuple(l)\n",
    "print(t)"
   ]
  },
  {
   "cell_type": "markdown",
   "id": "3c9a5cc3",
   "metadata": {},
   "source": [
    "## 2. Add Items "
   ]
  },
  {
   "cell_type": "markdown",
   "id": "9a9eb3b3",
   "metadata": {},
   "source": [
    "You are allow to add the tuple to the tuple."
   ]
  },
  {
   "cell_type": "code",
   "execution_count": 8,
   "id": "9f015316",
   "metadata": {},
   "outputs": [
    {
     "name": "stdout",
     "output_type": "stream",
     "text": [
      "('apple', 'banana', 'cherry', 'orange')\n"
     ]
    }
   ],
   "source": [
    "t=(\"apple\", \"banana\", \"cherry\")\n",
    "l=list(t)\n",
    "l.append(\"orange\")\n",
    "t=tuple(l)\n",
    "print(t)"
   ]
  },
  {
   "cell_type": "code",
   "execution_count": 2,
   "id": "2b815c7a",
   "metadata": {},
   "outputs": [
    {
     "name": "stdout",
     "output_type": "stream",
     "text": [
      "('apple', 'banana', 'cherry', 'orange')\n"
     ]
    }
   ],
   "source": [
    "thistuple = (\"apple\", \"banana\", \"cherry\")\n",
    "y = (\"orange\",)\n",
    "thistuple += y\n",
    "\n",
    "print(thistuple)"
   ]
  },
  {
   "cell_type": "markdown",
   "id": "6303cbfd",
   "metadata": {},
   "source": [
    "## 3. Remove Items"
   ]
  },
  {
   "cell_type": "code",
   "execution_count": 9,
   "id": "9d36c94b",
   "metadata": {},
   "outputs": [
    {
     "name": "stdout",
     "output_type": "stream",
     "text": [
      "('banana', 'cherry')\n"
     ]
    }
   ],
   "source": [
    "t=(\"apple\", \"banana\", \"cherry\")\n",
    "l=list(t)\n",
    "l.remove(\"apple\")\n",
    "t=tuple(l)\n",
    "print(t)"
   ]
  },
  {
   "cell_type": "markdown",
   "id": "9137a439",
   "metadata": {},
   "source": [
    "or you can delete the tuple completely by using the __del method__"
   ]
  },
  {
   "cell_type": "code",
   "execution_count": 10,
   "id": "4b1cc7ea",
   "metadata": {},
   "outputs": [
    {
     "ename": "NameError",
     "evalue": "name 't' is not defined",
     "output_type": "error",
     "traceback": [
      "\u001b[1;31m---------------------------------------------------------------------------\u001b[0m",
      "\u001b[1;31mNameError\u001b[0m                                 Traceback (most recent call last)",
      "Cell \u001b[1;32mIn [10], line 3\u001b[0m\n\u001b[0;32m      1\u001b[0m t\u001b[38;5;241m=\u001b[39m(\u001b[38;5;124m\"\u001b[39m\u001b[38;5;124mapple\u001b[39m\u001b[38;5;124m\"\u001b[39m, \u001b[38;5;124m\"\u001b[39m\u001b[38;5;124mbanana\u001b[39m\u001b[38;5;124m\"\u001b[39m, \u001b[38;5;124m\"\u001b[39m\u001b[38;5;124mcherry\u001b[39m\u001b[38;5;124m\"\u001b[39m)\n\u001b[0;32m      2\u001b[0m \u001b[38;5;28;01mdel\u001b[39;00m t\n\u001b[1;32m----> 3\u001b[0m \u001b[38;5;28mprint\u001b[39m(\u001b[43mt\u001b[49m)\n",
      "\u001b[1;31mNameError\u001b[0m: name 't' is not defined"
     ]
    }
   ],
   "source": [
    "t=(\"apple\", \"banana\", \"cherry\")\n",
    "del t\n",
    "print(t) #this code give error because the tuple t is not exist anymore"
   ]
  },
  {
   "cell_type": "code",
   "execution_count": 3,
   "id": "f611a414",
   "metadata": {},
   "outputs": [
    {
     "name": "stdout",
     "output_type": "stream",
     "text": [
      "cherry\n",
      "banana\n",
      "apple\n"
     ]
    }
   ],
   "source": [
    "fruits = (\"apple\", \"banana\", \"cherry\")\n",
    "\n",
    "(red,yellow,green) = fruits\n",
    "\n",
    "print(green)\n",
    "print(yellow)\n",
    "print(red)"
   ]
  },
  {
   "cell_type": "markdown",
   "id": "4007a3e0",
   "metadata": {},
   "source": [
    "__Tupel are iterable mean we can use tuple in the for loops and while loops__"
   ]
  },
  {
   "cell_type": "markdown",
   "id": "7711b885",
   "metadata": {},
   "source": [
    "## 5. Join Two Tuples and Multiplication\n"
   ]
  },
  {
   "cell_type": "code",
   "execution_count": 4,
   "id": "6466a108",
   "metadata": {},
   "outputs": [
    {
     "name": "stdout",
     "output_type": "stream",
     "text": [
      "('hello', 'my', 'name is', 'Abhishek')\n"
     ]
    }
   ],
   "source": [
    "t=(\"hello\",\"my\",\"name is\")\n",
    "t1=(\"Abhishek\",)\n",
    "print(t+t1)"
   ]
  },
  {
   "cell_type": "code",
   "execution_count": 5,
   "id": "744140e2",
   "metadata": {},
   "outputs": [
    {
     "name": "stdout",
     "output_type": "stream",
     "text": [
      "('apple', 'banana', 'cherry', 'apple', 'banana', 'cherry')\n"
     ]
    }
   ],
   "source": [
    "fruits = (\"apple\", \"banana\", \"cherry\")\n",
    "mytuple = fruits * 2\n",
    "\n",
    "print(mytuple) "
   ]
  },
  {
   "cell_type": "markdown",
   "id": "0290f69c",
   "metadata": {},
   "source": [
    "If you want to learn more go to this website https://www.w3schools.com/python/python_tuples.asp"
   ]
  }
 ],
 "metadata": {
  "kernelspec": {
   "display_name": "Python 3 (ipykernel)",
   "language": "python",
   "name": "python3"
  },
  "language_info": {
   "codemirror_mode": {
    "name": "ipython",
    "version": 3
   },
   "file_extension": ".py",
   "mimetype": "text/x-python",
   "name": "python",
   "nbconvert_exporter": "python",
   "pygments_lexer": "ipython3",
   "version": "3.10.8"
  }
 },
 "nbformat": 4,
 "nbformat_minor": 5
}
