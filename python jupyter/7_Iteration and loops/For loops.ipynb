{
 "cells": [
  {
   "cell_type": "markdown",
   "id": "ae95f5ee",
   "metadata": {},
   "source": [
    "<h1 style = \"font-size:4rem;color:orange;\" >FOR LOOP STATEMENT</h1>"
   ]
  },
  {
   "cell_type": "markdown",
   "id": "7843de94",
   "metadata": {},
   "source": [
    "<h1 style = \"font-size:3rem;color:red;\" >Introduction</h1>"
   ]
  },
  {
   "cell_type": "markdown",
   "id": "aed2d7cb",
   "metadata": {},
   "source": [
    "A for loop is used for iterating over a sequence (that is either a list, a tuple, a dictionary, a set, or a string).\n",
    "\n",
    "\n",
    "This is less like the for keyword in other programming languages, and works more like an iterator method as found in other object-orientated programming languages.\n",
    "\n",
    "\n",
    "With the for loop we can execute a set of statements, once for each item in a list, tuple, set etc."
   ]
  },
  {
   "cell_type": "markdown",
   "id": "cca70c07",
   "metadata": {},
   "source": [
    "#### Example"
   ]
  },
  {
   "cell_type": "code",
   "execution_count": 1,
   "id": "23178074",
   "metadata": {},
   "outputs": [
    {
     "name": "stdout",
     "output_type": "stream",
     "text": [
      "apple\n",
      "banana\n",
      "cherry\n"
     ]
    }
   ],
   "source": [
    "fruits = [\"apple\", \"banana\", \"cherry\"]\n",
    "for x in fruits:\n",
    "  print(x)"
   ]
  },
  {
   "cell_type": "markdown",
   "id": "82702445",
   "metadata": {},
   "source": [
    "# 1. Looping through  String "
   ]
  },
  {
   "cell_type": "markdown",
   "id": "4524e1ac",
   "metadata": {},
   "source": [
    "Even strings are iterable objects, they contain a sequence of characters:"
   ]
  },
  {
   "cell_type": "code",
   "execution_count": 2,
   "id": "ad388e49",
   "metadata": {},
   "outputs": [
    {
     "name": "stdout",
     "output_type": "stream",
     "text": [
      "b\n",
      "a\n",
      "n\n",
      "a\n",
      "n\n",
      "a\n"
     ]
    }
   ],
   "source": [
    "for x in \"banana\":\n",
    "  print(x)"
   ]
  },
  {
   "cell_type": "markdown",
   "id": "51726fcc",
   "metadata": {},
   "source": [
    "<h1 style = \"font-size:3rem;color:red;\" >The range() Function</h1>"
   ]
  },
  {
   "cell_type": "markdown",
   "id": "e8513e8c",
   "metadata": {},
   "source": [
    "To loop through a set of code a specified number of times, we can use the range() function,\n",
    "\n",
    "\n",
    "The range() function returns a sequence of numbers, starting from 0 by default, and increments by 1 (by default), and ends at a specified number."
   ]
  },
  {
   "cell_type": "markdown",
   "id": "c70f3973",
   "metadata": {},
   "source": [
    "##  Example"
   ]
  },
  {
   "cell_type": "code",
   "execution_count": 5,
   "id": "fb206846",
   "metadata": {},
   "outputs": [
    {
     "name": "stdout",
     "output_type": "stream",
     "text": [
      "hello 0\n",
      "hello 1\n",
      "hello 2\n",
      "hello 3\n",
      "hello 4\n",
      "hello 5\n"
     ]
    }
   ],
   "source": [
    "for x in range(6): #It iterate from the zero by default and end at the specified value\n",
    "    print(\"hello\",x)"
   ]
  },
  {
   "cell_type": "markdown",
   "id": "d1f0eb90",
   "metadata": {},
   "source": [
    "__The range() function defaults to 0 as a starting value, however it is possible to specify the starting value by adding a parameter: range(2, 6), which means values from 2 to 6 (but not including 6):__"
   ]
  },
  {
   "cell_type": "markdown",
   "id": "11145d92",
   "metadata": {},
   "source": [
    "## 1. range function using start parameter"
   ]
  },
  {
   "cell_type": "code",
   "execution_count": 15,
   "id": "942c0523",
   "metadata": {},
   "outputs": [
    {
     "name": "stdout",
     "output_type": "stream",
     "text": [
      "2\n",
      "3\n",
      "4\n",
      "5\n"
     ]
    }
   ],
   "source": [
    "for a in range(2,6): #the default value of range fuction is zero but in this case we provide the starting value\n",
    "    print(a)"
   ]
  },
  {
   "cell_type": "markdown",
   "id": "19c9d3e4",
   "metadata": {},
   "source": [
    "__The range() function defaults to increment the sequence by 1, however it is possible to specify the increment value by adding a third parameter: range(2, 30, 3):__"
   ]
  },
  {
   "cell_type": "markdown",
   "id": "53e2a80b",
   "metadata": {},
   "source": [
    "## 2. range function using increament sequence"
   ]
  },
  {
   "cell_type": "code",
   "execution_count": 18,
   "id": "2fc4926b",
   "metadata": {},
   "outputs": [
    {
     "name": "stdout",
     "output_type": "stream",
     "text": [
      "2\n",
      "5\n",
      "8\n",
      "11\n",
      "14\n",
      "17\n"
     ]
    }
   ],
   "source": [
    "for x in range(2, 20, 3):\n",
    "  print(x)"
   ]
  },
  {
   "cell_type": "code",
   "execution_count": 20,
   "id": "81058941",
   "metadata": {},
   "outputs": [
    {
     "name": "stdout",
     "output_type": "stream",
     "text": [
      "0\n",
      "1\n",
      "2\n"
     ]
    }
   ],
   "source": [
    "for x in range(6):\n",
    "  if x == 3: break\n",
    "  print(x)\n",
    "else:\n",
    "  print(\"Finally finished!\") "
   ]
  },
  {
   "cell_type": "markdown",
   "id": "cc79207c",
   "metadata": {},
   "source": [
    "<h1 style = \"font-size:3rem;color:red;\" >The break Statement</h1>"
   ]
  },
  {
   "cell_type": "markdown",
   "id": "5a60e892",
   "metadata": {},
   "source": [
    "By using the __break__ statement we can stop the iteration of the loop for the given conditions."
   ]
  },
  {
   "cell_type": "code",
   "execution_count": 6,
   "id": "5cb46805",
   "metadata": {},
   "outputs": [
    {
     "name": "stdout",
     "output_type": "stream",
     "text": [
      "0\n",
      "1\n",
      "2\n"
     ]
    }
   ],
   "source": [
    "for a in range(4):\n",
    "    if(a == 3):\n",
    "        break\n",
    "    print(a)"
   ]
  },
  {
   "cell_type": "code",
   "execution_count": 7,
   "id": "03c96888",
   "metadata": {},
   "outputs": [
    {
     "name": "stdout",
     "output_type": "stream",
     "text": [
      "apple\n",
      "banana\n"
     ]
    }
   ],
   "source": [
    "fruits = [\"apple\", \"banana\", \"cherry\"]\n",
    "for x in fruits:\n",
    "  print(x)\n",
    "  if x == \"banana\":\n",
    "    break"
   ]
  },
  {
   "cell_type": "markdown",
   "id": "834a479f",
   "metadata": {},
   "source": [
    "<h1 style = \"font-size:3rem;color:red;\" >The Countinue Statement</h1>"
   ]
  },
  {
   "cell_type": "markdown",
   "id": "995c4a48",
   "metadata": {},
   "source": [
    "With the continue statement we can stop the current iteration of the loop, and continue with the next:"
   ]
  },
  {
   "cell_type": "code",
   "execution_count": 12,
   "id": "3a60f481",
   "metadata": {},
   "outputs": [
    {
     "name": "stdout",
     "output_type": "stream",
     "text": [
      "0\n",
      "1\n",
      "2\n",
      "4\n",
      "5\n"
     ]
    }
   ],
   "source": [
    "for a in range(6): \n",
    "    if (a == 3):\n",
    "        continue #it skip the value 3 and print rest of the values \n",
    "    print(a)"
   ]
  },
  {
   "cell_type": "code",
   "execution_count": 10,
   "id": "94178f0d",
   "metadata": {},
   "outputs": [
    {
     "name": "stdout",
     "output_type": "stream",
     "text": [
      "apple\n",
      "cherry\n"
     ]
    }
   ],
   "source": [
    "fruits = [\"apple\", \"banana\", \"cherry\"]\n",
    "for x in fruits:\n",
    "  if x == \"banana\":\n",
    "    continue\n",
    "  print(x)"
   ]
  },
  {
   "cell_type": "markdown",
   "id": "9bd9572d",
   "metadata": {},
   "source": [
    "<h1 style = \"font-size:3rem;color:red;\" >Nested For Loop</h1>"
   ]
  },
  {
   "cell_type": "markdown",
   "id": "bb44cbb1",
   "metadata": {},
   "source": [
    "A nested loop is a loop inside a loop.\n",
    "\n",
    "The \"inner loop\" will be executed one time for each iteration of the \"outer loop\":"
   ]
  },
  {
   "cell_type": "code",
   "execution_count": 24,
   "id": "268e7026",
   "metadata": {},
   "outputs": [
    {
     "name": "stdout",
     "output_type": "stream",
     "text": [
      "1 3\n",
      "1 4\n",
      "2 3\n",
      "2 4\n"
     ]
    }
   ],
   "source": [
    "a=[1,2]\n",
    "b=[3,4]\n",
    "for x in a:\n",
    "    for y in b:\n",
    "        print(x,y)"
   ]
  }
 ],
 "metadata": {
  "kernelspec": {
   "display_name": "Python 3 (ipykernel)",
   "language": "python",
   "name": "python3"
  },
  "language_info": {
   "codemirror_mode": {
    "name": "ipython",
    "version": 3
   },
   "file_extension": ".py",
   "mimetype": "text/x-python",
   "name": "python",
   "nbconvert_exporter": "python",
   "pygments_lexer": "ipython3",
   "version": "3.10.8"
  }
 },
 "nbformat": 4,
 "nbformat_minor": 5
}
