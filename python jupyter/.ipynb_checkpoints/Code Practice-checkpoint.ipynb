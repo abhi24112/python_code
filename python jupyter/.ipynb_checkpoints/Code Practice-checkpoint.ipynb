{
 "cells": [
  {
   "cell_type": "markdown",
   "id": "c42e0c5f",
   "metadata": {},
   "source": [
    "<h1 style = \"font-size:4rem;color:red;\">NUMBER</h1>"
   ]
  },
  {
   "cell_type": "markdown",
   "id": "70ef81df",
   "metadata": {},
   "source": [
    "## Problem 1"
   ]
  },
  {
   "cell_type": "markdown",
   "id": "f669f152",
   "metadata": {},
   "source": [
    "Given a checkParity(n) function, write code to determine if a given number n is even or odd. \n",
    "Think of this as a function that returns 0 if the number is even, and 1 if it is odd.\n",
    "You have been given some starter code where the function \n",
    "and return statement have already been written, so don’t worry about any \n",
    "Python-specific details about functions; just implement the function logic!"
   ]
  },
  {
   "cell_type": "code",
   "execution_count": 4,
   "id": "e4322dda",
   "metadata": {},
   "outputs": [
    {
     "name": "stdout",
     "output_type": "stream",
     "text": [
      "Enter the number:2\n",
      "parity 0\n"
     ]
    }
   ],
   "source": [
    "def checkParity(n): #Because the odd Parity of odd number is 1 and for even is o\n",
    "  result = (n % 2)  #if you divide 2 by 2 the remainder is o and you divide 3 by 2 the remainder is 1\n",
    "  return result\n",
    "\n",
    "n=int(input(\"Enter the number:\"))\n",
    "print(\"parity\", checkParity(n))"
   ]
  },
  {
   "cell_type": "markdown",
   "id": "d13794a0",
   "metadata": {},
   "source": [
    "# Or"
   ]
  },
  {
   "cell_type": "code",
   "execution_count": 1,
   "id": "3f65a0ca",
   "metadata": {
    "scrolled": false
   },
   "outputs": [
    {
     "name": "stdout",
     "output_type": "stream",
     "text": [
      "Enter the number:3\n",
      "1\n"
     ]
    }
   ],
   "source": [
    "def checkParity(n):\n",
    "  if n%2==0:\n",
    "    result=0\n",
    "  else:\n",
    "    result=1 \n",
    "  return result\n",
    "n=int(input(\"Enter the number:\"))\n",
    "a=checkParity(n)\n",
    "print(a)"
   ]
  },
  {
   "cell_type": "markdown",
   "id": "4b1d1cf4",
   "metadata": {},
   "source": [
    "## Problem 2"
   ]
  },
  {
   "cell_type": "markdown",
   "id": "0808d746",
   "metadata": {},
   "source": [
    "Write a program which can calculate all the basic arithmetical calculations"
   ]
  },
  {
   "cell_type": "code",
   "execution_count": null,
   "id": "87eccab1",
   "metadata": {},
   "outputs": [],
   "source": [
    "a=int(input(\"Enter the first number:\")) # this statement is use to take input from the user\n",
    "b=int(input(\"Enter the second number:\")) # this statement is use to take input from the user\n",
    "g=a+b\n",
    "h=a-b\n",
    "c=a/b\n",
    "d=a//b\n",
    "e=a%b\n",
    "f=a**b\n",
    "print(\"The sum is\",g)\n",
    "print(\"The substraction is:\",h)\n",
    "print(\"The division is:\",c)\n",
    "print(\"The Floor division is:\",d)\n",
    "print(\"The module is:\",e)\n",
    "print(\"The power is :\",f)"
   ]
  },
  {
   "cell_type": "markdown",
   "id": "8323d353",
   "metadata": {},
   "source": [
    "##  Or"
   ]
  },
  {
   "cell_type": "code",
   "execution_count": null,
   "id": "93a79402",
   "metadata": {},
   "outputs": [],
   "source": [
    "def calculator(a,b):\n",
    "    addition=a+b\n",
    "    subtraction=a-b\n",
    "    classic_division = a/b\n",
    "    floor_division = a//b \n",
    "    modulus = a%b  \n",
    "    power = a**b \n",
    "    return [addition,subtraction,classic_division,floor_division,modulus,power]\n",
    "\n",
    "a=int(input(\"Enter the first number:\"))\n",
    "b=int(input(\"Enter the second number:\"))\n",
    "[addition,subtraction,classic_division, floor_division, modulus, power]=calculator(a,b)\n",
    "print(addition)\n",
    "print(subtraction)\n",
    "print(classic_division)\n",
    "print(floor_division)\n",
    "print(modulus)\n",
    "print(power)"
   ]
  },
  {
   "cell_type": "markdown",
   "id": "b8a75aa6",
   "metadata": {},
   "source": [
    "## Problem 3"
   ]
  },
  {
   "cell_type": "markdown",
   "id": "375678f1",
   "metadata": {},
   "source": [
    "Your task is to complete the code in order to evaluate the following expression:"
   ]
  },
  {
   "attachments": {
    "image.png": {
     "image/png": "[encoded data removed]"
    }
   },
   "cell_type": "markdown",
   "id": "4e24cc6b",
   "metadata": {},
   "source": [
    "![image.png](attachment:image.png)"
   ]
  },
  {
   "cell_type": "markdown",
   "id": "b5baa958",
   "metadata": {},
   "source": [
    "The result should be assigned to y. Be careful - watch the operators and keep their priorities in mind. Don't hesitate to use as many parentheses as you need."
   ]
  },
  {
   "cell_type": "code",
   "execution_count": 1,
   "id": "87ceb282",
   "metadata": {},
   "outputs": [
    {
     "name": "stdout",
     "output_type": "stream",
     "text": [
      "Enter value for x: 1\n",
      "y = 0.6000000000000001\n"
     ]
    }
   ],
   "source": [
    "x = float(input(\"Enter value for x: \"))\n",
    "y = 1/(x+1/(x+1/(x+1/x)))\n",
    "print(\"y =\", y)"
   ]
  },
  {
   "cell_type": "markdown",
   "id": "8c4896ff",
   "metadata": {},
   "source": [
    "## Problem 4"
   ]
  },
  {
   "cell_type": "markdown",
   "id": "fa4d6b04",
   "metadata": {},
   "source": [
    "Your task is to prepare a simple code able to evaluate the end time of a period of time, given as a number of minutes (it could be arbitrarily large). The start time is given as a pair of hours (0..23) and minutes (0..59). The result has to be printed to the console.\n",
    "\n",
    "\n",
    "__For example, if an event starts at 12:17 and lasts 59 minutes, it will end at 13:16.__\n",
    "\n",
    "\n",
    "Don't worry about any imperfections in your code - it's okay if it accepts an invalid time - the most important thing is that the code produce valid results for valid input data.\n",
    "\n",
    "\n",
    "Test your code carefully. Hint: using the % operator may be the key to success."
   ]
  },
  {
   "attachments": {
    "image.png": {
     "image/png": "[encoded data removed]"
    }
   },
   "cell_type": "markdown",
   "id": "4818da3e",
   "metadata": {},
   "source": [
    "![image.png](attachment:image.png)"
   ]
  },
  {
   "cell_type": "code",
   "execution_count": 1,
   "id": "121b1fad",
   "metadata": {},
   "outputs": [
    {
     "name": "stdout",
     "output_type": "stream",
     "text": [
      "Starting time (hours): 12\n",
      "Starting time (minutes): 17\n",
      "Event duration (minutes): 59\n",
      "the time taken is 13 : 16\n"
     ]
    }
   ],
   "source": [
    "hour = int(input(\"Starting time (hours): \"))\n",
    "mins = int(input(\"Starting time (minutes): \"))\n",
    "dura = int(input(\"Event duration (minutes): \"))\n",
    "h = hour * 60 + mins + dura\n",
    "print(\"the time taken is\", h//60,\":\",h%60)"
   ]
  },
  {
   "cell_type": "markdown",
   "id": "82bb37ee",
   "metadata": {},
   "source": [
    "<h1 style = \"font-size:4rem;color:red;\">STRING</h1>"
   ]
  },
  {
   "cell_type": "markdown",
   "id": "f22dda0b",
   "metadata": {},
   "source": [
    "##  Problem 1"
   ]
  },
  {
   "cell_type": "markdown",
   "id": "0a35d0ca",
   "metadata": {},
   "source": [
    "Given a getStr() function, write the necessary sequence of operations to transform the string (containing three literals) in such a way that every literal is tripled​ respectively."
   ]
  },
  {
   "cell_type": "markdown",
   "id": "f64f0a17",
   "metadata": {},
   "source": [
    "Sample Input: \n",
    "abc\n",
    "\n",
    "Sample Output: \n",
    "aaabbbccc"
   ]
  },
  {
   "cell_type": "code",
   "execution_count": 3,
   "id": "1139eb0c",
   "metadata": {},
   "outputs": [
    {
     "name": "stdout",
     "output_type": "stream",
     "text": [
      "Enter the string:abhi\n",
      "['aaabbbhhhiii', 12]\n"
     ]
    }
   ],
   "source": [
    "def getStr(s):\n",
    "  c=''\n",
    "  for a in s:\n",
    "    b=a*3\n",
    "    c+=b\n",
    "  strlen = len(c) # this statement change the size of the list\n",
    "  return [c, strlen]\n",
    "s=input(\"Enter the string:\")\n",
    "print(getStr(s))"
   ]
  },
  {
   "cell_type": "markdown",
   "id": "d576bc8e",
   "metadata": {},
   "source": [
    "# Or"
   ]
  },
  {
   "cell_type": "code",
   "execution_count": 4,
   "id": "b3c156f8",
   "metadata": {},
   "outputs": [
    {
     "name": "stdout",
     "output_type": "stream",
     "text": [
      "Enter the list:hello\n",
      "hhheeellllllooo\n"
     ]
    }
   ],
   "source": [
    "s=input(\"Enter the list:\")\n",
    "c=\"\"\n",
    "for a in s:\n",
    "    b=a*3\n",
    "    c+=b\n",
    "print(c)"
   ]
  },
  {
   "cell_type": "markdown",
   "id": "d2dc887e",
   "metadata": {},
   "source": [
    "# Or"
   ]
  },
  {
   "cell_type": "code",
   "execution_count": 6,
   "id": "68692c56",
   "metadata": {},
   "outputs": [
    {
     "name": "stdout",
     "output_type": "stream",
     "text": [
      "['aaabbbccc', 9]\n"
     ]
    }
   ],
   "source": [
    "def getStr(s):\n",
    "  s=s[:1] + s[0] + s[1:]# Transform the string \n",
    "  s=s[:1] + s[0] + s[1:]\n",
    "  s=s[:3] + s[3] + s[3:]\n",
    "  s=s[:3] + s[3] + s[3:]\n",
    "  s=s[:6] + s[6] + s[6:]\n",
    "  s=s[:6] + s[6] + s[6:]\n",
    "  # Update the length of string\n",
    "  strlen = len(s)\n",
    "  return [s, strlen]\n",
    "\n",
    "print(getStr(\"abc\"))"
   ]
  },
  {
   "cell_type": "markdown",
   "id": "ddb8ae78",
   "metadata": {},
   "source": [
    "##  Problem 2"
   ]
  },
  {
   "cell_type": "markdown",
   "id": "1ce7d411",
   "metadata": {},
   "source": [
    "Given a string, use a findOccurence(s) function that allows you to find the first occurrences of \"b\" and \"ccc\" in the string.\n",
    "\n",
    "Sample input: aaabbbccc\n",
    "Sample output: [3,6]"
   ]
  },
  {
   "cell_type": "code",
   "execution_count": 4,
   "id": "b5f47b84",
   "metadata": {
    "scrolled": true
   },
   "outputs": [
    {
     "name": "stdout",
     "output_type": "stream",
     "text": [
      "[3, 6]\n"
     ]
    }
   ],
   "source": [
    "def string(s):\n",
    "    x=s.find(\"b\")\n",
    "    y=s.find(\"c\")\n",
    "    return [x,y]\n",
    "s=\"aaabbbccc\"\n",
    "print(string(s))\n",
    "# print(a.find(\"a\"))"
   ]
  },
  {
   "cell_type": "markdown",
   "id": "9477dcac",
   "metadata": {},
   "source": [
    "## Problem 3"
   ]
  },
  {
   "cell_type": "markdown",
   "id": "8f992b0d",
   "metadata": {},
   "source": [
    "Given a function changeCase(s), the task is to convert the strings from upper case to lower case.\n",
    "\n",
    "Sample Input:\n",
    "“AAA BBB CCC”\n",
    "\n",
    "Sample Output:\n",
    "“aaa bbb ccc”"
   ]
  },
  {
   "cell_type": "code",
   "execution_count": 57,
   "id": "74b3b5a7",
   "metadata": {},
   "outputs": [
    {
     "name": "stdout",
     "output_type": "stream",
     "text": [
      "['AAA BBB CCC', 'aaa bbb ccc']\n"
     ]
    }
   ],
   "source": [
    "def changeCase(s):\n",
    "    a=s.upper()\n",
    "    b=s.lower()\n",
    "    return [a,b]\n",
    "s=\"AAA BBB CCC\"\n",
    "print(changeCase(s))"
   ]
  },
  {
   "cell_type": "markdown",
   "id": "b5b4d1c2",
   "metadata": {},
   "source": [
    "## Problem 4"
   ]
  },
  {
   "cell_type": "markdown",
   "id": "8188e04c",
   "metadata": {},
   "source": [
    "Write the program that can detect the fist appering double space in the given string?"
   ]
  },
  {
   "cell_type": "code",
   "execution_count": 3,
   "id": "1998fd19",
   "metadata": {},
   "outputs": [
    {
     "name": "stdout",
     "output_type": "stream",
     "text": [
      "Enter the string:hello world  my  name is Abhishek\n",
      "The double space is found at the index: 11\n"
     ]
    }
   ],
   "source": [
    "a=input(\"Enter the string:\")\n",
    "b=a.find(\"  \")\n",
    "print(\"The double space is found at the index:\",b)"
   ]
  },
  {
   "cell_type": "markdown",
   "id": "c5d8611f",
   "metadata": {},
   "source": [
    "## Problem 5"
   ]
  },
  {
   "cell_type": "markdown",
   "id": "b0c9043e",
   "metadata": {},
   "source": [
    "Write an formate of string that can be used to fill a intoduction pragraph ? "
   ]
  },
  {
   "cell_type": "code",
   "execution_count": null,
   "id": "c53f87ad",
   "metadata": {
    "scrolled": true
   },
   "outputs": [],
   "source": [
    "a=\"Hello I am {name}. And I am {age} years old\"\n",
    "b=input(\"Enter your name:\")\n",
    "c=int(input(\"Enter your age:\"))\n",
    "a=a.format(name=b,age=c)\n",
    "print(a)"
   ]
  },
  {
   "cell_type": "markdown",
   "id": "988d15a4",
   "metadata": {},
   "source": [
    "## Problem 6"
   ]
  },
  {
   "cell_type": "markdown",
   "id": "62393c8a",
   "metadata": {},
   "source": [
    "Write a program to reverse the given string?"
   ]
  },
  {
   "cell_type": "code",
   "execution_count": 1,
   "id": "a8755264",
   "metadata": {},
   "outputs": [
    {
     "name": "stdout",
     "output_type": "stream",
     "text": [
      "Enter the string:Abhishek\n",
      "kehsihbA\n"
     ]
    }
   ],
   "source": [
    "def reverse(a):\n",
    "    s=\"\"\n",
    "    index=len(a)\n",
    "    while index>0:\n",
    "        s+=a[index-1]\n",
    "        index=index-1\n",
    "    return s;\n",
    "a=input(\"Enter the string:\")\n",
    "b=reverse(a)\n",
    "print(b)"
   ]
  },
  {
   "cell_type": "markdown",
   "id": "a4d6aaff",
   "metadata": {},
   "source": [
    "### Or"
   ]
  },
  {
   "cell_type": "code",
   "execution_count": 14,
   "id": "94140e5d",
   "metadata": {},
   "outputs": [
    {
     "name": "stdout",
     "output_type": "stream",
     "text": [
      "Enter the string:Abhishek\n",
      "kehsihbA\n"
     ]
    }
   ],
   "source": [
    "a=input(\"Enter the string:\")\n",
    "s=\"\"\n",
    "l=len(a)\n",
    "for i in range(l,0,-1):\n",
    "    s+=a[i-1]\n",
    "print(s)"
   ]
  },
  {
   "cell_type": "markdown",
   "id": "b123b3cc",
   "metadata": {},
   "source": [
    "## Problem 7"
   ]
  },
  {
   "cell_type": "markdown",
   "id": "42c7453a",
   "metadata": {},
   "source": [
    "Write a program to find the word is spam or not in a given pragraph? \n",
    "If the word occure more than 4 times it is a spam."
   ]
  },
  {
   "cell_type": "code",
   "execution_count": 29,
   "id": "5a404146",
   "metadata": {
    "scrolled": true
   },
   "outputs": [
    {
     "name": "stdout",
     "output_type": "stream",
     "text": [
      "Enter the word to search for spam:hello\n",
      "The word hello is not a spam\n"
     ]
    }
   ],
   "source": [
    "a=\"hi hello hi my name is Abhishek. hi all of you. hi my friends. hi everyone\"\n",
    "s=input(\"Enter the word to search for spam:\")\n",
    "b=a.count(s)\n",
    "if b>4:\n",
    "    print(\"The word\",s,\"is spam because is appear\",b,\"times\")\n",
    "else:\n",
    "    print(\"The word\",s,\"is not a spam\")"
   ]
  },
  {
   "cell_type": "markdown",
   "id": "f83f1bb7",
   "metadata": {},
   "source": [
    "## Problem 8 "
   ]
  },
  {
   "cell_type": "markdown",
   "id": "f58e9f80",
   "metadata": {},
   "source": [
    "Write a program to print all the unique words in the given string?"
   ]
  },
  {
   "cell_type": "code",
   "execution_count": 48,
   "id": "3a4eead0",
   "metadata": {},
   "outputs": [
    {
     "name": "stdout",
     "output_type": "stream",
     "text": [
      "The total number of unique words are: 14\n",
      "['The', 'longer', 'you', 'live,', 'the', 'more', 'realize', 'that', 'reality', 'is', 'just', 'made', 'of', 'pain']\n"
     ]
    }
   ],
   "source": [
    "a=\"The longer you live, the more you realize that reality is just made of pain\"\n",
    "b=a.split()\n",
    "uni=[]\n",
    "for i in b:\n",
    "    if i not in uni:\n",
    "        uni.append(i)\n",
    "    else:\n",
    "        continue\n",
    "print(\"The total number of unique words are:\",len(uni))\n",
    "print(uni)"
   ]
  },
  {
   "cell_type": "markdown",
   "id": "6a56b491",
   "metadata": {},
   "source": [
    "<h1 style = \"font-size:4rem;color:red;\">LIST</h1>"
   ]
  },
  {
   "cell_type": "markdown",
   "id": "5a5de95a",
   "metadata": {},
   "source": [
    "## Problem 1"
   ]
  },
  {
   "cell_type": "markdown",
   "id": "dc789ac5",
   "metadata": {},
   "source": [
    "Given a getSublist() function, create a list named l [1, 4, 9, 10, 23]. Using list slicing, get the sublists [1, 4, 9] and [10, 23].\n",
    "\n",
    "__Input : A list__\n",
    "\n",
    "__Output : Two sublists__\n"
   ]
  },
  {
   "attachments": {
    "image-2.png": {
     "image/png": "[encoded data removed]"
    }
   },
   "cell_type": "markdown",
   "id": "53eb440d",
   "metadata": {},
   "source": [
    "![image-2.png](attachment:image-2.png)"
   ]
  },
  {
   "cell_type": "code",
   "execution_count": 3,
   "id": "0899d3fd",
   "metadata": {},
   "outputs": [
    {
     "name": "stdout",
     "output_type": "stream",
     "text": [
      "[[1, 4, 9], [10, 23]]\n"
     ]
    }
   ],
   "source": [
    "def getSubList():\n",
    "  l = [1, 4, 9, 10, 23]\n",
    "  l1 = 0\n",
    "  l2 = 0  \n",
    "  l1=l[0:3]\n",
    "  l2=l[3:5]\n",
    "  return [l1, l2]\n",
    "print(getSubList())"
   ]
  },
  {
   "cell_type": "code",
   "execution_count": 4,
   "id": "0c0dd5cc",
   "metadata": {},
   "outputs": [
    {
     "name": "stdout",
     "output_type": "stream",
     "text": [
      "[1, 4, 9]\n",
      "[10, 23]\n"
     ]
    }
   ],
   "source": [
    "def getSubList():\n",
    "  l = [1, 4, 9, 10, 23]\n",
    "  l1 = 0\n",
    "  l2 = 0 \n",
    "  l1=l[0:3]\n",
    "  l2=l[3:5]\n",
    "  return [l1, l2]\n",
    "[l1, l2] = getSubList()\n",
    "print(l1)\n",
    "print(l2)"
   ]
  },
  {
   "cell_type": "markdown",
   "id": "33dad3d8",
   "metadata": {},
   "source": [
    "##  Problem 2"
   ]
  },
  {
   "cell_type": "markdown",
   "id": "7917ea84",
   "metadata": {},
   "source": [
    "Given an AppendtoList() function, create a list named l with the following values:\n",
    "[1, 4, 9, 10, 23] and appends the number 90 at the end of the list.\n",
    "\n",
    "Input:\n",
    "A list of numbers\n",
    "\n",
    "Output:\n",
    "Append the value 90 to the end of the list l"
   ]
  },
  {
   "attachments": {
    "image.png": {
     "image/png": "[encoded data removed]"
    }
   },
   "cell_type": "markdown",
   "id": "66418603",
   "metadata": {},
   "source": [
    "![image.png](attachment:image.png)"
   ]
  },
  {
   "cell_type": "code",
   "execution_count": 6,
   "id": "3693815a",
   "metadata": {},
   "outputs": [
    {
     "name": "stdout",
     "output_type": "stream",
     "text": [
      "[1, 4, 9, 10, 23, 90]\n"
     ]
    }
   ],
   "source": [
    "def AppendtoList():\n",
    "  l = [1, 4, 9, 10, 23]\n",
    "  l.append(90)\n",
    "  return l\n",
    "print(AppendtoList())"
   ]
  },
  {
   "cell_type": "code",
   "execution_count": 8,
   "id": "c28b01ab",
   "metadata": {},
   "outputs": [
    {
     "name": "stdout",
     "output_type": "stream",
     "text": [
      "[1, 4, 9, 10, 23, 90]\n"
     ]
    }
   ],
   "source": [
    "l1 = [1, 4, 9, 10, 23]\n",
    "l1 = l1 + [90]\n",
    "print(l1)"
   ]
  },
  {
   "cell_type": "markdown",
   "id": "894164b7",
   "metadata": {},
   "source": [
    "##  Problem 3"
   ]
  },
  {
   "cell_type": "markdown",
   "id": "f57bbb2f",
   "metadata": {},
   "source": [
    "Given a getAverage() function, create a list named l with the following values:[1, 4, 9, 10, 23]\n",
    "Calculate the average value of all values in the list.\n",
    "\n",
    "Input:\n",
    "A list of integers\n",
    "\n",
    "Output:\n",
    "An average of values in the list"
   ]
  },
  {
   "attachments": {
    "image.png": {
     "image/png": "[encoded data removed]"
    }
   },
   "cell_type": "markdown",
   "id": "a702c655",
   "metadata": {},
   "source": [
    "![image.png](attachment:image.png)"
   ]
  },
  {
   "cell_type": "code",
   "execution_count": 41,
   "id": "7b73dfa5",
   "metadata": {},
   "outputs": [
    {
     "name": "stdout",
     "output_type": "stream",
     "text": [
      "9.4\n"
     ]
    }
   ],
   "source": [
    "l1 = [1, 4, 9, 10, 23]\n",
    "sum=0\n",
    "for x in l1:\n",
    "    sum+=x\n",
    "avg=sum/5\n",
    "print(avg)"
   ]
  },
  {
   "cell_type": "code",
   "execution_count": 42,
   "id": "41301104",
   "metadata": {},
   "outputs": [
    {
     "name": "stdout",
     "output_type": "stream",
     "text": [
      "9.4\n"
     ]
    }
   ],
   "source": [
    "def getAverage():\n",
    "  l1 = [1, 4, 9, 10, 23]\n",
    "  avg = sum(l1) / len(l1)  \n",
    "  return avg\n",
    "print(avg)"
   ]
  },
  {
   "cell_type": "markdown",
   "id": "299982d6",
   "metadata": {},
   "source": [
    "## Problem 4"
   ]
  },
  {
   "cell_type": "markdown",
   "id": "cf085033",
   "metadata": {},
   "source": [
    "Given a removeList() function, create a list named l with the following values:\n",
    "[1, 4, 9, 10, 23] \n",
    "\n",
    "Remove the sublist [4, 9] from list l\n",
    "\n",
    "Sample Input:\n",
    "[1, 4, 9, 10, 23]\n",
    "\n",
    "Sample Output:\n",
    "[1, 10, 23]\n"
   ]
  },
  {
   "attachments": {
    "image.png": {
     "image/png": "[encoded data removed]"
    }
   },
   "cell_type": "markdown",
   "id": "a724dda3",
   "metadata": {},
   "source": [
    "![image.png](attachment:image.png)"
   ]
  },
  {
   "cell_type": "code",
   "execution_count": 52,
   "id": "14a780ee",
   "metadata": {},
   "outputs": [
    {
     "name": "stdout",
     "output_type": "stream",
     "text": [
      "[1, 10, 23]\n"
     ]
    }
   ],
   "source": [
    "def removeList():\n",
    "  l1 = [1, 4, 9, 10, 23]\n",
    "  l2 = [4, 9]\n",
    "  del l1[1:3]\n",
    "  return l1\n",
    "print(removeList())"
   ]
  },
  {
   "cell_type": "code",
   "execution_count": 53,
   "id": "c346a8d5",
   "metadata": {},
   "outputs": [
    {
     "name": "stdout",
     "output_type": "stream",
     "text": [
      "[1, 10, 23]\n"
     ]
    }
   ],
   "source": [
    "def removeList():\n",
    "  l1 = [1, 4, 9, 10, 23]\n",
    "  l2 = [4, 9]\n",
    "  l1.remove(l2[0])\n",
    "  l1.remove(l2[1])\n",
    "  return l1\n",
    "\n",
    "l1 = removeList()\n",
    "print(l1)"
   ]
  },
  {
   "cell_type": "code",
   "execution_count": 54,
   "id": "854f32e0",
   "metadata": {},
   "outputs": [
    {
     "name": "stdout",
     "output_type": "stream",
     "text": [
      "[1, 10, 23]\n"
     ]
    }
   ],
   "source": [
    "def removeList():\n",
    "  \n",
    "  l1 = [1, 4, 9, 10, 23]\n",
    "  l2 = [4, 9]\n",
    "  for elem in l2:\n",
    "    l1.remove(elem)\n",
    "  return l1\n",
    "\n",
    "l1 = removeList()\n",
    "print(l1)"
   ]
  },
  {
   "cell_type": "markdown",
   "id": "d79e5667",
   "metadata": {},
   "source": [
    "##  Problem 5"
   ]
  },
  {
   "cell_type": "markdown",
   "id": "712405ca",
   "metadata": {},
   "source": [
    "Given a getSquare() function, create a list with the squares of the first 10 numbers, i.e., in the range from 1-10.\n",
    "\n",
    "Input:\n",
    "An empty list\n",
    "\n",
    "Output:\n",
    "An updated list with the square of each value in the list"
   ]
  },
  {
   "attachments": {
    "image.png": {
     "image/png": "[encoded data removed]"
    }
   },
   "cell_type": "markdown",
   "id": "519bb500",
   "metadata": {},
   "source": [
    "![image.png](attachment:image.png)"
   ]
  },
  {
   "cell_type": "code",
   "execution_count": 2,
   "id": "08f4ea39",
   "metadata": {},
   "outputs": [
    {
     "name": "stdout",
     "output_type": "stream",
     "text": [
      "[1, 4, 9, 16, 25, 36, 49, 64, 81, 100]\n"
     ]
    }
   ],
   "source": [
    "def getSquare():\n",
    "  l1 = [x*x for x in range(1, 11)]\n",
    "  return l1\n",
    "l1 = getSquare()\n",
    "print(l1)"
   ]
  },
  {
   "cell_type": "code",
   "execution_count": 1,
   "id": "81616ee2",
   "metadata": {},
   "outputs": [
    {
     "name": "stdout",
     "output_type": "stream",
     "text": [
      "[1, 4, 9, 16, 25, 36, 49, 64, 81, 100]\n"
     ]
    }
   ],
   "source": [
    "print([x**2 for x in range(1,11)])"
   ]
  },
  {
   "cell_type": "markdown",
   "id": "bbd84c89",
   "metadata": {},
   "source": [
    "## Problem 6"
   ]
  },
  {
   "cell_type": "markdown",
   "id": "33972b76",
   "metadata": {},
   "source": [
    "Given a ListofEvenOdds() function, create a list comprehension with all the even numbers from 0 to 20, and another one with all the odd numbers.\n",
    "\n",
    "Input:\n",
    "Two empty lists\n",
    "\n",
    "Output:\n",
    "\n",
    "List 1 with even numbers\n",
    "\n",
    "List 2 with odd numbers"
   ]
  },
  {
   "attachments": {
    "image.png": {
     "image/png": "[encoded data removed]"
    }
   },
   "cell_type": "markdown",
   "id": "b88ea2b4",
   "metadata": {},
   "source": [
    "![image.png](attachment:image.png)"
   ]
  },
  {
   "cell_type": "code",
   "execution_count": 3,
   "id": "51966676",
   "metadata": {},
   "outputs": [
    {
     "name": "stdout",
     "output_type": "stream",
     "text": [
      "[[0, 2, 4, 6, 8, 10, 12, 14, 16, 18, 20], [1, 3, 5, 7, 9, 11, 13, 15, 17, 19]]\n"
     ]
    }
   ],
   "source": [
    "def ListofEvenOdds():\n",
    "  l1 = [x for x in range(21) if x%2==0] # list of even numbers\n",
    "  l2 = [x for x in range(21) if x%2!=0] # list of odd numbers \n",
    "  return [l1, l2]\n",
    "print(ListofEvenOdds())"
   ]
  },
  {
   "cell_type": "markdown",
   "id": "7b1df05d",
   "metadata": {},
   "source": [
    "## Problem 7"
   ]
  },
  {
   "cell_type": "markdown",
   "id": "87e4b4de",
   "metadata": {},
   "source": [
    "Given an evenSquare() function, create a list with the squares of the even numbers from 0 to 20. The final output should be the sum of even numbers in the list:\n",
    "\n",
    "Input:\n",
    "A list with the square of even numbers from 0-20\n",
    "\n",
    "Output:\n",
    "The sum of the numbers in the list"
   ]
  },
  {
   "attachments": {
    "image.png": {
     "image/png": "[encoded data removed]"
    }
   },
   "cell_type": "markdown",
   "id": "978c5c6c",
   "metadata": {},
   "source": [
    "![image.png](attachment:image.png)"
   ]
  },
  {
   "cell_type": "code",
   "execution_count": 3,
   "id": "3787ad09",
   "metadata": {},
   "outputs": [
    {
     "name": "stdout",
     "output_type": "stream",
     "text": [
      "1540\n"
     ]
    }
   ],
   "source": [
    "def evenSquareSum():\n",
    "  even = [ x * x for x in range(0,21) if x % 2 == 0]\n",
    "  return sum(even)\n",
    "print(evenSquareSum())"
   ]
  },
  {
   "cell_type": "markdown",
   "id": "f81e6996",
   "metadata": {},
   "source": [
    "## Problem 8"
   ]
  },
  {
   "cell_type": "markdown",
   "id": "0bd64a9e",
   "metadata": {},
   "source": [
    "Given a getSquare() function, make a list comprehension that returns a list with the squares of all even numbers from 0 to 20, but ignores those numbers that are divisible by 3.\n",
    "\n",
    "Input:\n",
    "An empty list\n",
    "\n",
    "Output:\n",
    "A list with the square of all even numbers not divisible by 3."
   ]
  },
  {
   "attachments": {
    "image.png": {
     "image/png": "[encoded data removed]"
    }
   },
   "cell_type": "markdown",
   "id": "25e49896",
   "metadata": {},
   "source": [
    "![image.png](attachment:image.png)"
   ]
  },
  {
   "cell_type": "code",
   "execution_count": 5,
   "id": "c7a31e8e",
   "metadata": {},
   "outputs": [
    {
     "name": "stdout",
     "output_type": "stream",
     "text": [
      "[4, 16, 64, 100, 196, 256, 400]\n"
     ]
    }
   ],
   "source": [
    "def getSquare():\n",
    "  ##Write your code here\n",
    "  l1 = [x*x for x in  range(21) if x%3!=0 and x%2==0] ##Create the list here\n",
    "  return l1\n",
    "print(getSquare())"
   ]
  },
  {
   "cell_type": "markdown",
   "id": "09fa388d",
   "metadata": {},
   "source": [
    "## Probelm 9"
   ]
  },
  {
   "cell_type": "markdown",
   "id": "14dd672a",
   "metadata": {},
   "source": [
    "Write a program in which you have a 2 list first list contain the name of the player and the second list contain the age of the players.\n",
    "\n",
    "print the name and the age of the player in the form of string EX: (The player is \"name\" and the age is \"age\")"
   ]
  },
  {
   "cell_type": "code",
   "execution_count": 9,
   "id": "a2fb0ed3",
   "metadata": {},
   "outputs": [
    {
     "name": "stdout",
     "output_type": "stream",
     "text": [
      "The player is rohit sharma and the age is 36\n",
      "The player is Dhoni and the age is 46\n",
      "The player is Sachine and the age is 58\n",
      "The player is virat kholi and the age is 32\n"
     ]
    }
   ],
   "source": [
    "name=[\"rohit sharma\",\"Dhoni\",\"Sachine\",\"virat kholi\"] \n",
    "age=[36,46,58,32]\n",
    "z=zip(name,age)\n",
    "for name,age in z:\n",
    "    print(\"The player is\", name, \"and the age is\", age)"
   ]
  }
 ],
 "metadata": {
  "kernelspec": {
   "display_name": "Python 3 (ipykernel)",
   "language": "python",
   "name": "python3"
  },
  "language_info": {
   "codemirror_mode": {
    "name": "ipython",
    "version": 3
   },
   "file_extension": ".py",
   "mimetype": "text/x-python",
   "name": "python",
   "nbconvert_exporter": "python",
   "pygments_lexer": "ipython3",
   "version": "3.10.8"
  }
 },
 "nbformat": 4,
 "nbformat_minor": 5
}
