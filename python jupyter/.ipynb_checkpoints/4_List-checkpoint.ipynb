{
 "cells": [
  {
   "cell_type": "markdown",
   "id": "db64c540",
   "metadata": {},
   "source": [
    "<h1 style = \"font-size:4rem;color:orange;\">LIST</h1>"
   ]
  },
  {
   "cell_type": "markdown",
   "id": "215aae57",
   "metadata": {},
   "source": [
    "Python lists are data structures that group sequences of elements. Lists can have elements of several types, and you can also mix different types within the same list (although all elements are usually of the same datatype)."
   ]
  },
  {
   "cell_type": "markdown",
   "id": "714d46cc",
   "metadata": {},
   "source": [
    " Lists are created using square brackets [], and the elements are separated by commas (,). The elements in a list can be accessed by their positions, starting with 0 as the index of the first element."
   ]
  },
  {
   "cell_type": "markdown",
   "id": "d55b526f",
   "metadata": {},
   "source": [
    "####  For example"
   ]
  },
  {
   "cell_type": "code",
   "execution_count": 3,
   "id": "aeaee59f",
   "metadata": {},
   "outputs": [
    {
     "name": "stdout",
     "output_type": "stream",
     "text": [
      "[1, 2, 34, 5, 'Abhi', True]\n"
     ]
    }
   ],
   "source": [
    "l=[1,2,34,5,\"Abhi\",True]\n",
    "print(l)"
   ]
  },
  {
   "cell_type": "markdown",
   "id": "6b350302",
   "metadata": {},
   "source": [
    "## List Length "
   ]
  },
  {
   "cell_type": "markdown",
   "id": "b5c0cd96",
   "metadata": {},
   "source": [
    "To determine how many items a list has, use the len() function:"
   ]
  },
  {
   "cell_type": "code",
   "execution_count": 4,
   "id": "24001f0a",
   "metadata": {},
   "outputs": [
    {
     "name": "stdout",
     "output_type": "stream",
     "text": [
      "6\n"
     ]
    }
   ],
   "source": [
    "l=[1,2,34,5,\"Abhi\",True]\n",
    "print(len(l))"
   ]
  },
  {
   "cell_type": "markdown",
   "id": "387244cf",
   "metadata": {},
   "source": [
    "##  The list() Function"
   ]
  },
  {
   "cell_type": "markdown",
   "id": "d8a69704",
   "metadata": {},
   "source": [
    "By using list() we can convert the Tuple and set into the list."
   ]
  },
  {
   "cell_type": "markdown",
   "id": "df195952",
   "metadata": {},
   "source": [
    "####  note: the tuple is denoted by using () brakets And the set is denoted by the curley backets"
   ]
  },
  {
   "cell_type": "code",
   "execution_count": 1,
   "id": "cbf90fd4",
   "metadata": {},
   "outputs": [
    {
     "name": "stdout",
     "output_type": "stream",
     "text": [
      "[9, 3, 5, 7]\n",
      "[4, 68, 3]\n"
     ]
    }
   ],
   "source": [
    "l=(4,68,3)\n",
    "s={9,3,5,7,3}\n",
    "print(list(s))\n",
    "print(list(l))"
   ]
  },
  {
   "cell_type": "markdown",
   "id": "8829210d",
   "metadata": {},
   "source": [
    "<h1 style = \"font-size:3rem;color:red;\" >Access List Items</h1>"
   ]
  },
  {
   "cell_type": "markdown",
   "id": "b32b4f95",
   "metadata": {},
   "source": [
    "List items are indexed and you can access them by referring to the index number:"
   ]
  },
  {
   "cell_type": "markdown",
   "id": "5599cbe4",
   "metadata": {},
   "source": [
    "## 1. Positive indexing"
   ]
  },
  {
   "cell_type": "code",
   "execution_count": 7,
   "id": "d91c7dc6",
   "metadata": {},
   "outputs": [
    {
     "name": "stdout",
     "output_type": "stream",
     "text": [
      "34\n"
     ]
    }
   ],
   "source": [
    "l=[1,2,34,5,\"Abhi\",True]\n",
    "a=l[2]\n",
    "print(a)"
   ]
  },
  {
   "cell_type": "markdown",
   "id": "ca24b4d8",
   "metadata": {},
   "source": [
    "## 2. Negative indexing "
   ]
  },
  {
   "cell_type": "markdown",
   "id": "2d2560f0",
   "metadata": {},
   "source": [
    "Negative indexing means start from the end -1 refers to the last item, -2 refers to the second last item etc."
   ]
  },
  {
   "cell_type": "code",
   "execution_count": 8,
   "id": "c24def6f",
   "metadata": {},
   "outputs": [
    {
     "name": "stdout",
     "output_type": "stream",
     "text": [
      "Abhi\n"
     ]
    }
   ],
   "source": [
    "l=[1,2,34,5,\"Abhi\",True]\n",
    "a=l[-2]\n",
    "print(a)"
   ]
  },
  {
   "cell_type": "markdown",
   "id": "7a00a511",
   "metadata": {},
   "source": [
    "## 3. Range of Indexes"
   ]
  },
  {
   "cell_type": "markdown",
   "id": "21a87e74",
   "metadata": {},
   "source": [
    "####  1.Range in Positive indexing"
   ]
  },
  {
   "cell_type": "code",
   "execution_count": 10,
   "id": "2a553575",
   "metadata": {},
   "outputs": [
    {
     "name": "stdout",
     "output_type": "stream",
     "text": [
      "[2, 34, 5, 'Abhi']\n"
     ]
    }
   ],
   "source": [
    "l=[1,2,34,5,\"Abhi\",True]\n",
    "a=l[1:5]\n",
    "print(a)"
   ]
  },
  {
   "cell_type": "code",
   "execution_count": 2,
   "id": "4671ed5c",
   "metadata": {},
   "outputs": [
    {
     "name": "stdout",
     "output_type": "stream",
     "text": [
      "['Hello', 'World', 'Abhishek']\n"
     ]
    }
   ],
   "source": [
    "a=[\"Hello\",\"World\",\"Abhishek\",\"Pain\",\"lion\"]\n",
    "b=a[:3]\n",
    "print(b)"
   ]
  },
  {
   "cell_type": "markdown",
   "id": "1baabec6",
   "metadata": {},
   "source": [
    "#### 2. Range in Negative indexing"
   ]
  },
  {
   "cell_type": "code",
   "execution_count": null,
   "id": "d6e17c7c",
   "metadata": {},
   "outputs": [],
   "source": [
    "l=[\"apple\", \"banana\", \"cherry\", \"orange\", \"kiwi\", \"melon\", \"mango\"]\n",
    "print(l[-4:-1])\n",
    "print(l[::-1]) # This is also used for reversing the list"
   ]
  },
  {
   "cell_type": "markdown",
   "id": "c3b44198",
   "metadata": {},
   "source": [
    "Question: Check that string is present or not?"
   ]
  },
  {
   "cell_type": "code",
   "execution_count": 7,
   "id": "a766a1c2",
   "metadata": {},
   "outputs": [
    {
     "name": "stdout",
     "output_type": "stream",
     "text": [
      "Yes banana is present in the list\n"
     ]
    }
   ],
   "source": [
    "l=[\"apple\", \"banana\", \"cherry\", \"orange\", \"kiwi\", \"melon\", \"mango\"]\n",
    "if \"banana\" in l:\n",
    "    print(\"Yes banana is present in the list\")"
   ]
  },
  {
   "cell_type": "markdown",
   "id": "709ad4d0",
   "metadata": {},
   "source": [
    "<h1 style = \"font-size:3rem;color:red;\" >CHANGING LIST ITEM</h1>"
   ]
  },
  {
   "cell_type": "markdown",
   "id": "d067657d",
   "metadata": {},
   "source": [
    "## 1.Change Item Value "
   ]
  },
  {
   "cell_type": "code",
   "execution_count": 14,
   "id": "b0400307",
   "metadata": {},
   "outputs": [
    {
     "name": "stdout",
     "output_type": "stream",
     "text": [
      "['HELLO', 'Abhishek', 'please']\n"
     ]
    }
   ],
   "source": [
    "L=[\"HELLO\",\"name\",\"please\"]\n",
    "L[1]=\"Abhishek\"\n",
    "print(L)"
   ]
  },
  {
   "cell_type": "markdown",
   "id": "07c17e35",
   "metadata": {},
   "source": [
    "## 2.Change a Range of Item Values "
   ]
  },
  {
   "cell_type": "code",
   "execution_count": 17,
   "id": "5ea84198",
   "metadata": {
    "scrolled": true
   },
   "outputs": [
    {
     "name": "stdout",
     "output_type": "stream",
     "text": [
      "['HELLO', 'name', 'Abhishek', 'fire', 'no']\n"
     ]
    }
   ],
   "source": [
    "L=[\"HELLO\",\"name\",\"please\",\"time\",\"no\"]\n",
    "L[2:4]=[\"Abhishek\",\"fire\"]\n",
    "print(L)"
   ]
  },
  {
   "cell_type": "markdown",
   "id": "e61c0686",
   "metadata": {},
   "source": [
    "<h1 style = \"font-size:3rem;color:red;\" >FUNCTION IN THE LIST</h1>"
   ]
  },
  {
   "cell_type": "markdown",
   "id": "541a2424",
   "metadata": {},
   "source": [
    "## 1. Insert Items"
   ]
  },
  {
   "cell_type": "markdown",
   "id": "fc765542",
   "metadata": {},
   "source": [
    "You can insert the item into the list by using insert() function."
   ]
  },
  {
   "cell_type": "markdown",
   "id": "0a11a6a7",
   "metadata": {},
   "source": [
    "syntax-->  \"list name\".insert(index,\"value\")"
   ]
  },
  {
   "cell_type": "code",
   "execution_count": 20,
   "id": "aa36ee9b",
   "metadata": {
    "scrolled": false
   },
   "outputs": [
    {
     "name": "stdout",
     "output_type": "stream",
     "text": [
      "['HELLO', 'name', 'fight', 'please', 'time', 'no']\n"
     ]
    }
   ],
   "source": [
    "l=[\"HELLO\",\"name\",\"please\",\"time\",\"no\"]\n",
    "l.insert(2,\"fight\")\n",
    "print(l)"
   ]
  },
  {
   "cell_type": "markdown",
   "id": "3e4e297d",
   "metadata": {},
   "source": [
    "## 2. Append Items"
   ]
  },
  {
   "cell_type": "markdown",
   "id": "035d564b",
   "metadata": {},
   "source": [
    "To add an item to the end of the list, use the append() method:"
   ]
  },
  {
   "cell_type": "code",
   "execution_count": 21,
   "id": "0b083e58",
   "metadata": {},
   "outputs": [
    {
     "name": "stdout",
     "output_type": "stream",
     "text": [
      "['HELLO', 'name', 'please', 'time', 'no', 'pain']\n"
     ]
    }
   ],
   "source": [
    "l=[\"HELLO\",\"name\",\"please\",\"time\",\"no\"]\n",
    "l.append(\"pain\")\n",
    "print(l)"
   ]
  },
  {
   "cell_type": "markdown",
   "id": "e72e0216",
   "metadata": {},
   "source": [
    "## 3. Extend list"
   ]
  },
  {
   "cell_type": "markdown",
   "id": "795fc69c",
   "metadata": {},
   "source": [
    "To append elements from another list to the current list, use the extend() method."
   ]
  },
  {
   "cell_type": "code",
   "execution_count": 25,
   "id": "acab7a0a",
   "metadata": {},
   "outputs": [
    {
     "name": "stdout",
     "output_type": "stream",
     "text": [
      "['apple', 'banana', 'cherry', 'mango', 'pineapple', 'papaya']\n"
     ]
    }
   ],
   "source": [
    "l = [\"apple\", \"banana\", \"cherry\"]\n",
    "s = [\"mango\", \"pineapple\", \"papaya\"]\n",
    "l.extend(s)\n",
    "print(l)      #we cannot write like that print(l.extend(s)) because first we have to extend the list and the print it"
   ]
  },
  {
   "cell_type": "markdown",
   "id": "9341d2c8",
   "metadata": {},
   "source": [
    "#### The extend() method does not have to append lists, you can add any iterable object (tuples, sets, dictionaries etc.)."
   ]
  },
  {
   "cell_type": "code",
   "execution_count": 7,
   "id": "6f539b79",
   "metadata": {},
   "outputs": [
    {
     "name": "stdout",
     "output_type": "stream",
     "text": [
      "['apple', 'banana', 'cherry', ('kiwi', 'orange'), {'pineapple', 'carrot'}, {'one': 1}]\n"
     ]
    }
   ],
   "source": [
    "l = [\"apple\", \"banana\", \"cherry\"]\n",
    "t = (\"kiwi\", \"orange\") # the t is a tuple \n",
    "s = {\"pineapple\" , \"carrot\"}  # the s is a set\n",
    "d = {\"one\" : 1}  # the d is the dictionary\n",
    "l.append(t)\n",
    "l.append(s)\n",
    "l.append(d)\n",
    "print(l)"
   ]
  },
  {
   "cell_type": "markdown",
   "id": "d4e23da3",
   "metadata": {},
   "source": [
    "## 4. Remove Specified Item "
   ]
  },
  {
   "cell_type": "markdown",
   "id": "ec514913",
   "metadata": {},
   "source": [
    "The remove() method removes the specified item."
   ]
  },
  {
   "cell_type": "code",
   "execution_count": 28,
   "id": "43132e1c",
   "metadata": {},
   "outputs": [
    {
     "name": "stdout",
     "output_type": "stream",
     "text": [
      "['apple', 'cherry']\n"
     ]
    }
   ],
   "source": [
    "l= [\"apple\", \"banana\", \"cherry\"]\n",
    "l.remove(\"banana\")\n",
    "print(l)"
   ]
  },
  {
   "cell_type": "markdown",
   "id": "6bdbe76c",
   "metadata": {},
   "source": [
    "## 5. Remove Specified Index"
   ]
  },
  {
   "cell_type": "markdown",
   "id": "25ddce1a",
   "metadata": {},
   "source": [
    "The pop() method removes the specified index.\n",
    "\n",
    "syntax-->  list.pop( index number )"
   ]
  },
  {
   "cell_type": "code",
   "execution_count": 29,
   "id": "060c9c4d",
   "metadata": {},
   "outputs": [
    {
     "name": "stdout",
     "output_type": "stream",
     "text": [
      "['apple', 'cherry']\n"
     ]
    }
   ],
   "source": [
    "l= [\"apple\", \"banana\", \"cherry\"]\n",
    "l.pop(1)\n",
    "print(l)"
   ]
  },
  {
   "cell_type": "markdown",
   "id": "baa0c2f6",
   "metadata": {},
   "source": [
    "##  6. del Keyword "
   ]
  },
  {
   "cell_type": "markdown",
   "id": "59599bb2",
   "metadata": {},
   "source": [
    "The del keyword also delete the element of the list at specific index or delete whole list."
   ]
  },
  {
   "cell_type": "code",
   "execution_count": 11,
   "id": "412da7e4",
   "metadata": {},
   "outputs": [
    {
     "name": "stdout",
     "output_type": "stream",
     "text": [
      "['hello', 'ten']\n"
     ]
    }
   ],
   "source": [
    "l=[\"hello\", \"mine\", \"ten\"]\n",
    "del l[1]  \n",
    "print(l)  "
   ]
  },
  {
   "cell_type": "code",
   "execution_count": 14,
   "id": "8c0e084f",
   "metadata": {},
   "outputs": [
    {
     "ename": "NameError",
     "evalue": "name 'l' is not defined",
     "output_type": "error",
     "traceback": [
      "\u001b[1;31m---------------------------------------------------------------------------\u001b[0m",
      "\u001b[1;31mNameError\u001b[0m                                 Traceback (most recent call last)",
      "Cell \u001b[1;32mIn [14], line 3\u001b[0m\n\u001b[0;32m      1\u001b[0m l\u001b[38;5;241m=\u001b[39m[\u001b[38;5;124m\"\u001b[39m\u001b[38;5;124mhello\u001b[39m\u001b[38;5;124m\"\u001b[39m, \u001b[38;5;124m\"\u001b[39m\u001b[38;5;124mmine\u001b[39m\u001b[38;5;124m\"\u001b[39m, \u001b[38;5;124m\"\u001b[39m\u001b[38;5;124mten\u001b[39m\u001b[38;5;124m\"\u001b[39m]\n\u001b[0;32m      2\u001b[0m \u001b[38;5;28;01mdel\u001b[39;00m l\n\u001b[1;32m----> 3\u001b[0m \u001b[38;5;28mprint\u001b[39m(\u001b[43ml\u001b[49m)\n",
      "\u001b[1;31mNameError\u001b[0m: name 'l' is not defined"
     ]
    }
   ],
   "source": [
    "l=[\"hello\", \"mine\", \"ten\"]\n",
    "del l\n",
    "print(l)  #this will cause an error because you have succsesfully deleted the list \"l\"."
   ]
  },
  {
   "cell_type": "markdown",
   "id": "eec65d3a",
   "metadata": {},
   "source": [
    "##  7. Clear the List"
   ]
  },
  {
   "cell_type": "markdown",
   "id": "b9d13654",
   "metadata": {},
   "source": [
    "The clear() method empties the list. The list still remains, but it has no content."
   ]
  },
  {
   "cell_type": "code",
   "execution_count": 13,
   "id": "24fe16d3",
   "metadata": {},
   "outputs": [
    {
     "name": "stdout",
     "output_type": "stream",
     "text": [
      "[]\n"
     ]
    }
   ],
   "source": [
    "l=[\"hello\", \"mine\", \"ten\"]\n",
    "l.clear()\n",
    "print(l)"
   ]
  }
 ],
 "metadata": {
  "kernelspec": {
   "display_name": "Python 3 (ipykernel)",
   "language": "python",
   "name": "python3"
  },
  "language_info": {
   "codemirror_mode": {
    "name": "ipython",
    "version": 3
   },
   "file_extension": ".py",
   "mimetype": "text/x-python",
   "name": "python",
   "nbconvert_exporter": "python",
   "pygments_lexer": "ipython3",
   "version": "3.10.8"
  }
 },
 "nbformat": 4,
 "nbformat_minor": 5
}
