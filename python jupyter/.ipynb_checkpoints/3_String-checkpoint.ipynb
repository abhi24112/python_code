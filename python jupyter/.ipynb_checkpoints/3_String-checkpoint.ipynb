{
 "cells": [
  {
   "cell_type": "markdown",
   "id": "1ebb089f",
   "metadata": {},
   "source": [
    "<h1 style = \"font-size:4rem;color:red;\" >String</h1>"
   ]
  },
  {
   "cell_type": "markdown",
   "id": "4126356c",
   "metadata": {},
   "source": [
    "## 1.What is a String?"
   ]
  },
  {
   "cell_type": "code",
   "execution_count": null,
   "id": "20d48bed",
   "metadata": {},
   "outputs": [],
   "source": [
    "Python also has support for string datatypes. Strings are sequences of characters (like words).\n",
    "There are number of operations that can be performed using strings."
   ]
  },
  {
   "cell_type": "markdown",
   "id": "b1f2fdd1",
   "metadata": {},
   "source": [
    "## 2.Initialize a String"
   ]
  },
  {
   "cell_type": "code",
   "execution_count": null,
   "id": "ff944ea5",
   "metadata": {},
   "outputs": [],
   "source": [
    "A string can be defined using single ('') or double (\"\") quotes"
   ]
  },
  {
   "cell_type": "code",
   "execution_count": 1,
   "id": "a999f8a2",
   "metadata": {},
   "outputs": [
    {
     "name": "stdout",
     "output_type": "stream",
     "text": [
      "Abhishek Abhi\n"
     ]
    }
   ],
   "source": [
    "a=\"Abhishek\"\n",
    "b='Abhi'\n",
    "print(a,b)"
   ]
  },
  {
   "cell_type": "markdown",
   "id": "b86b3542",
   "metadata": {},
   "source": [
    "## 3.Multiline Strings"
   ]
  },
  {
   "cell_type": "code",
   "execution_count": 17,
   "id": "d0b9e82d",
   "metadata": {},
   "outputs": [
    {
     "name": "stdout",
     "output_type": "stream",
     "text": [
      "Hello my name is Abhishek\n",
      "and i like python and I want to become a dataScientist\n"
     ]
    }
   ],
   "source": [
    "A=\"\"\"Hello my name is Abhishek\n",
    "and i like python and I want to become a dataScientist\"\"\"\n",
    "print(A)"
   ]
  },
  {
   "cell_type": "markdown",
   "id": "a64d004b",
   "metadata": {},
   "source": [
    "## 4.String Concatenation"
   ]
  },
  {
   "cell_type": "code",
   "execution_count": null,
   "id": "e3d636f5",
   "metadata": {},
   "outputs": [],
   "source": [
    "You can concatenate strings by adding them using the + operator, but you can’t mix different \n",
    "data types (e.g. strings and numbers)."
   ]
  },
  {
   "cell_type": "code",
   "execution_count": 4,
   "id": "941aa123",
   "metadata": {},
   "outputs": [
    {
     "name": "stdout",
     "output_type": "stream",
     "text": [
      "hello\n"
     ]
    }
   ],
   "source": [
    "a='hel'\n",
    "a+='lo'\n",
    "print(a)"
   ]
  },
  {
   "cell_type": "code",
   "execution_count": 12,
   "id": "c13e1476",
   "metadata": {
    "scrolled": true
   },
   "outputs": [
    {
     "name": "stdout",
     "output_type": "stream",
     "text": [
      "hello world\n",
      "hello hello hello \n"
     ]
    }
   ],
   "source": [
    "a='hello '\n",
    "b='world'\n",
    "print(a+b)\n",
    "print(a*3,)"
   ]
  },
  {
   "cell_type": "markdown",
   "id": "c5915d9d",
   "metadata": {},
   "source": [
    "## 5.Strings are Arrays"
   ]
  },
  {
   "cell_type": "code",
   "execution_count": null,
   "id": "dc905459",
   "metadata": {},
   "outputs": [],
   "source": [
    "Like many other popular programming languages, strings in Python are arrays of bytes \n",
    "representing unicode characters.\n",
    "\n",
    "However, Python does not have a character data type, a single character is \n",
    "simply a string with a length of 1.\n",
    "\n",
    "Square brackets can be used to access elements of the string."
   ]
  },
  {
   "cell_type": "code",
   "execution_count": 19,
   "id": "01cea1c1",
   "metadata": {},
   "outputs": [
    {
     "name": "stdout",
     "output_type": "stream",
     "text": [
      "Abhishek is a\n",
      "h\n"
     ]
    }
   ],
   "source": [
    "a='Abhishek is a good boy' #indexes are started with zero and so on like 0,1,2,3,...n\n",
    "print(a[0:13]) # In this 0 is a starting value and 13 is a ending value (this is a string slicing)\n",
    "print(a[5])"
   ]
  },
  {
   "cell_type": "markdown",
   "id": "2dbcf49c",
   "metadata": {},
   "source": [
    "## 6.Looping Through a String"
   ]
  },
  {
   "cell_type": "code",
   "execution_count": 21,
   "id": "be63faec",
   "metadata": {},
   "outputs": [
    {
     "name": "stdout",
     "output_type": "stream",
     "text": [
      "A\n",
      "b\n",
      "h\n",
      "i\n"
     ]
    }
   ],
   "source": [
    "a=\"Abhi\"\n",
    "for x in a:\n",
    "    print(x)"
   ]
  },
  {
   "cell_type": "markdown",
   "id": "417e5584",
   "metadata": {},
   "source": [
    "## 7.Length of a String"
   ]
  },
  {
   "cell_type": "code",
   "execution_count": null,
   "id": "25f36b81",
   "metadata": {},
   "outputs": [],
   "source": [
    "To get the length of the string we can use len() function."
   ]
  },
  {
   "cell_type": "code",
   "execution_count": 22,
   "id": "3219ff73",
   "metadata": {},
   "outputs": [
    {
     "name": "stdout",
     "output_type": "stream",
     "text": [
      "12\n",
      "8\n"
     ]
    }
   ],
   "source": [
    "a=\"Abhishek\"\n",
    "b='abhishek bro'\n",
    "c=len(b)\n",
    "print(c)\n",
    "print(len(a))"
   ]
  },
  {
   "cell_type": "markdown",
   "id": "f4370965",
   "metadata": {},
   "source": [
    "## 8.In Operator"
   ]
  },
  {
   "cell_type": "code",
   "execution_count": null,
   "id": "33de84cf",
   "metadata": {},
   "outputs": [],
   "source": [
    "In operator is use to find that the certain string is present in the given string or not.\n",
    "If the string is present it return True and if not it return False."
   ]
  },
  {
   "cell_type": "code",
   "execution_count": 24,
   "id": "78606cfa",
   "metadata": {},
   "outputs": [
    {
     "name": "stdout",
     "output_type": "stream",
     "text": [
      "True\n",
      "False\n"
     ]
    }
   ],
   "source": [
    "a='hello girls how are you?'\n",
    "print(\"how\" in a)\n",
    "print(\"boys\" in a)"
   ]
  },
  {
   "cell_type": "markdown",
   "id": "836742f6",
   "metadata": {},
   "source": [
    "## 9.Not In Operator "
   ]
  },
  {
   "cell_type": "code",
   "execution_count": null,
   "id": "7026c088",
   "metadata": {},
   "outputs": [],
   "source": [
    "It is just Opposite of In operator."
   ]
  },
  {
   "cell_type": "code",
   "execution_count": 26,
   "id": "85531151",
   "metadata": {
    "scrolled": true
   },
   "outputs": [
    {
     "name": "stdout",
     "output_type": "stream",
     "text": [
      "False\n",
      "True\n"
     ]
    }
   ],
   "source": [
    "a='Hi my name is Abhishek'\n",
    "print(\"Hi\" not in a)\n",
    "print(\"hello\" not in a)"
   ]
  },
  {
   "cell_type": "markdown",
   "id": "af6e116e",
   "metadata": {},
   "source": [
    "<h1 style = \"font-size:4rem;color:red;\" >String Slicing</h1>"
   ]
  },
  {
   "cell_type": "markdown",
   "id": "dfc28bc1",
   "metadata": {},
   "source": [
    "![alternatvie text](https://qph.fs.quoracdn.net/main-qimg-a380b1bc159589df5e0b9842e5b56b6d)"
   ]
  },
  {
   "cell_type": "code",
   "execution_count": null,
   "id": "85871988",
   "metadata": {},
   "outputs": [],
   "source": [
    "You can return a range of characters by using the slice syntax.\n",
    "Specify the start index and the end index, separated by a colon, to return a part of the string.\n",
    "the ending value is one greater by the index value"
   ]
  },
  {
   "cell_type": "code",
   "execution_count": 27,
   "id": "bd4d0b82",
   "metadata": {},
   "outputs": [
    {
     "name": "stdout",
     "output_type": "stream",
     "text": [
      "llo\n"
     ]
    }
   ],
   "source": [
    "b = \"Hello, World!\"\n",
    "print(b[2:5])"
   ]
  },
  {
   "cell_type": "code",
   "execution_count": 28,
   "id": "93f4ffca",
   "metadata": {},
   "outputs": [
    {
     "name": "stdout",
     "output_type": "stream",
     "text": [
      "Hello\n"
     ]
    }
   ],
   "source": [
    "b = \"Hello, World!\"\n",
    "print(b[:5]) # In this the range is started from the Zero"
   ]
  },
  {
   "cell_type": "code",
   "execution_count": 29,
   "id": "b3fd3e3d",
   "metadata": {},
   "outputs": [
    {
     "name": "stdout",
     "output_type": "stream",
     "text": [
      "llo, World!\n"
     ]
    }
   ],
   "source": [
    "b = \"Hello, World!\"\n",
    "print(b[2:]) # In this the slicing is from index 2 to the last index "
   ]
  },
  {
   "cell_type": "markdown",
   "id": "c9c60273",
   "metadata": {},
   "source": [
    "## 1.Negative Indexing"
   ]
  },
  {
   "cell_type": "code",
   "execution_count": null,
   "id": "700b53e6",
   "metadata": {},
   "outputs": [],
   "source": [
    "You can understand negetive indexing by the below image:"
   ]
  },
  {
   "cell_type": "markdown",
   "id": "64fc7656",
   "metadata": {},
   "source": [
    "![alternatvie text](https://cdn.programiz.com/cdn/farfuture/xbMSkPWtLTmYChe-5WOduhTgTZmw5XTRYD9LeJjZBaQ/mtime:1582112622/sites/tutorial2program/files/python-list-index.png)"
   ]
  },
  {
   "cell_type": "code",
   "execution_count": 32,
   "id": "17f7c27f",
   "metadata": {},
   "outputs": [
    {
     "name": "stdout",
     "output_type": "stream",
     "text": [
      "orl\n"
     ]
    }
   ],
   "source": [
    "b = \"Hello, World!\"\n",
    "print(b[-5:-2]) #From: \"o\" in \"World!\" (position -5)"
   ]
  }
 ],
 "metadata": {
  "kernelspec": {
   "display_name": "Python 3 (ipykernel)",
   "language": "python",
   "name": "python3"
  },
  "language_info": {
   "codemirror_mode": {
    "name": "ipython",
    "version": 3
   },
   "file_extension": ".py",
   "mimetype": "text/x-python",
   "name": "python",
   "nbconvert_exporter": "python",
   "pygments_lexer": "ipython3",
   "version": "3.10.5"
  }
 },
 "nbformat": 4,
 "nbformat_minor": 5
}
