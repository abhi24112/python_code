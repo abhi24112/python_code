{
 "cells": [
  {
   "cell_type": "markdown",
   "id": "e25dd1b2",
   "metadata": {},
   "source": [
    "<h1 style = \"font-size:4rem;color:orange;\" >MODULES AND FUNCTIONS</h1>"
   ]
  },
  {
   "cell_type": "markdown",
   "id": "38903e54",
   "metadata": {},
   "source": [
    "<h1 style = \"font-size:4rem;color:red;\" >Modules</h1>"
   ]
  },
  {
   "cell_type": "markdown",
   "id": "0cc914ba",
   "metadata": {},
   "source": [
    "A function is a block of code that is used to perform a single action. A module is a Python file containing a set of functions and variables of all types (arrays, dictionaries, objects, etc.) that you want to use in your application."
   ]
  },
  {
   "cell_type": "markdown",
   "id": "e6e60ea2",
   "metadata": {},
   "source": [
    "## 1. Module Creation "
   ]
  },
  {
   "cell_type": "markdown",
   "id": "2c9d49ba",
   "metadata": {},
   "source": [
    "To create a module, create a python file with a .py extension."
   ]
  },
  {
   "cell_type": "code",
   "execution_count": 2,
   "id": "a16092f8",
   "metadata": {},
   "outputs": [],
   "source": [
    "# Save this code in a file named mymodule.py\n",
    "def greeting(name):\n",
    "    print(\"Hello\" + name)"
   ]
  },
  {
   "cell_type": "markdown",
   "id": "c7159333",
   "metadata": {},
   "source": [
    "## 2. Use a Module"
   ]
  },
  {
   "cell_type": "markdown",
   "id": "04d206ba",
   "metadata": {},
   "source": [
    "Modules created with a .py extension can be used with an import statement."
   ]
  },
  {
   "cell_type": "code",
   "execution_count": null,
   "id": "450806c1",
   "metadata": {},
   "outputs": [],
   "source": [
    "import mymodule\n",
    "mymodule.greeting(\"Jonathan\")\n",
    "#this code is not going to work in jupyter because jupyter don't create the .py file.\n",
    "# you can use code editors and the IDE(integrated development enviorment) "
   ]
  },
  {
   "cell_type": "markdown",
   "id": "a78fe8ea",
   "metadata": {},
   "source": [
    "## 3. Variables in Module"
   ]
  },
  {
   "cell_type": "markdown",
   "id": "5c41cd17",
   "metadata": {},
   "source": [
    "The module can contain functions, as already described, but also variables of all types (arrays, dictionaries, objects etc):"
   ]
  },
  {
   "cell_type": "code",
   "execution_count": 5,
   "id": "2503bebb",
   "metadata": {},
   "outputs": [],
   "source": [
    "#Save this code in the file mymodule.py\n",
    "person1 = {\n",
    "  \"name\": \"John\",\n",
    "  \"age\": 36,\n",
    "  \"country\": \"Norway\"\n",
    "} "
   ]
  },
  {
   "cell_type": "code",
   "execution_count": null,
   "id": "3c061558",
   "metadata": {},
   "outputs": [],
   "source": [
    "import mymodule\n",
    "\n",
    "a = mymodule.person1[\"age\"]\n",
    "print(a) "
   ]
  },
  {
   "cell_type": "markdown",
   "id": "4982d7ed",
   "metadata": {},
   "source": [
    "## 4. Import From Module"
   ]
  },
  {
   "cell_type": "markdown",
   "id": "f337cff4",
   "metadata": {},
   "source": [
    "You can choose to import only parts from a module, by using the from keyword."
   ]
  },
  {
   "cell_type": "code",
   "execution_count": 6,
   "id": "5591b5ee",
   "metadata": {},
   "outputs": [],
   "source": [
    "#The module named mymodule has one function and one dictionary:\n",
    "\n",
    "def greeting(name):\n",
    "  print(\"Hello, \" + name)\n",
    "\n",
    "person1 = {\n",
    "  \"name\": \"John\",\n",
    "  \"age\": 36,\n",
    "  \"country\": \"Norway\"\n",
    "}"
   ]
  },
  {
   "cell_type": "code",
   "execution_count": null,
   "id": "bf7af9b9",
   "metadata": {},
   "outputs": [],
   "source": [
    "from mymodule import person1\n",
    "\n",
    "print (person1[\"age\"])"
   ]
  }
 ],
 "metadata": {
  "kernelspec": {
   "display_name": "Python 3 (ipykernel)",
   "language": "python",
   "name": "python3"
  },
  "language_info": {
   "codemirror_mode": {
    "name": "ipython",
    "version": 3
   },
   "file_extension": ".py",
   "mimetype": "text/x-python",
   "name": "python",
   "nbconvert_exporter": "python",
   "pygments_lexer": "ipython3",
   "version": "3.10.8"
  }
 },
 "nbformat": 4,
 "nbformat_minor": 5
}
