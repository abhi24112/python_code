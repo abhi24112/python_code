{
 "cells": [
  {
   "cell_type": "markdown",
   "id": "d18b2b19",
   "metadata": {},
   "source": [
    "<h1 style = \"font-size:4rem;color:orange;\" >Python Basic Notes</h1>"
   ]
  },
  {
   "cell_type": "markdown",
   "id": "e02d8042",
   "metadata": {},
   "source": [
    "<h1 style = \"font-size:3rem;color:red;\" >1.NUMBERS</h1>"
   ]
  },
  {
   "cell_type": "markdown",
   "id": "17d6762f",
   "metadata": {},
   "source": [
    "## Print the Data Type"
   ]
  },
  {
   "cell_type": "code",
   "execution_count": null,
   "id": "8af0e84b",
   "metadata": {},
   "outputs": [],
   "source": [
    "To print the number data type, use the built-in function type(number)"
   ]
  },
  {
   "cell_type": "code",
   "execution_count": 3,
   "id": "bf884ca7",
   "metadata": {},
   "outputs": [
    {
     "name": "stdout",
     "output_type": "stream",
     "text": [
      "<class 'int'>\n"
     ]
    }
   ],
   "source": [
    "a=45\n",
    "print(type(a))"
   ]
  },
  {
   "cell_type": "code",
   "execution_count": 4,
   "id": "e8f7bca4",
   "metadata": {},
   "outputs": [
    {
     "name": "stdout",
     "output_type": "stream",
     "text": [
      "<class 'str'>\n"
     ]
    }
   ],
   "source": [
    "a='Abhishek'\n",
    "print(type(a))"
   ]
  },
  {
   "cell_type": "markdown",
   "id": "cd18a9b1",
   "metadata": {},
   "source": [
    "## Basic Operations on Number"
   ]
  },
  {
   "cell_type": "code",
   "execution_count": null,
   "id": "eb905756",
   "metadata": {},
   "outputs": [],
   "source": [
    "We can now use our variables or any other numbers to do some calculations:"
   ]
  },
  {
   "cell_type": "code",
   "execution_count": 1,
   "id": "33daed01",
   "metadata": {
    "scrolled": true
   },
   "outputs": [
    {
     "name": "stdout",
     "output_type": "stream",
     "text": [
      "Enter the first number:2\n",
      "Enter the second number:3\n",
      "The sum is 5\n",
      "The substraction is: -1\n",
      "The division is: 0.6666666666666666\n",
      "The Floor division is: 0\n",
      "The module is: 2\n",
      "The power is : 8\n"
     ]
    }
   ],
   "source": [
    "a=int(input(\"Enter the first number:\"))\n",
    "b=int(input(\"Enter the second number:\"))\n",
    "g=a+b\n",
    "h=a-b\n",
    "c=a/b\n",
    "d=a//b\n",
    "e=a%b\n",
    "f=a**b\n",
    "print(\"The sum is\",g)\n",
    "print(\"The substraction is:\",h)\n",
    "print(\"The division is:\",c)\n",
    "print(\"The Floor division is:\",d)\n",
    "print(\"The module is:\",e)\n",
    "print(\"The power is :\",f)"
   ]
  },
  {
   "cell_type": "markdown",
   "id": "07a25587",
   "metadata": {},
   "source": [
    "#### Do the same question with using Function?"
   ]
  },
  {
   "cell_type": "code",
   "execution_count": 7,
   "id": "8f058d0f",
   "metadata": {},
   "outputs": [
    {
     "name": "stdout",
     "output_type": "stream",
     "text": [
      "Enter the first number:2\n",
      "Enter the second number:3\n",
      "5\n",
      "-1\n",
      "0.6666666666666666\n",
      "0\n",
      "2\n",
      "8\n"
     ]
    }
   ],
   "source": [
    "def calculator(a,b):\n",
    "    addition=a+b\n",
    "    subtraction=a-b\n",
    "    classic_division = a/b\n",
    "    floor_division = a//b \n",
    "    modulus = a%b  \n",
    "    power = a**b \n",
    "    return [addition,subtraction,classic_division,floor_division,modulus,power]\n",
    "\n",
    "a=int(input(\"Enter the first number:\"))\n",
    "b=int(input(\"Enter the second number:\"))\n",
    "[addition,subtraction,classic_division, floor_division, modulus, power]=calculator(a,b)\n",
    "print(addition)\n",
    "print(subtraction)\n",
    "print(classic_division)\n",
    "print(floor_division)\n",
    "print(modulus)\n",
    "print(power)"
   ]
  },
  {
   "cell_type": "code",
   "execution_count": null,
   "id": "256c413a",
   "metadata": {},
   "outputs": [],
   "source": []
  }
 ],
 "metadata": {
  "kernelspec": {
   "display_name": "Python 3 (ipykernel)",
   "language": "python",
   "name": "python3"
  },
  "language_info": {
   "codemirror_mode": {
    "name": "ipython",
    "version": 3
   },
   "file_extension": ".py",
   "mimetype": "text/x-python",
   "name": "python",
   "nbconvert_exporter": "python",
   "pygments_lexer": "ipython3",
   "version": "3.10.5"
  }
 },
 "nbformat": 4,
 "nbformat_minor": 5
}
